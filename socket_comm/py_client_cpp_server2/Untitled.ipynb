{
 "cells": [
  {
   "cell_type": "code",
   "execution_count": 1,
   "id": "789832f1-011d-416c-a5ad-19da2a614268",
   "metadata": {},
   "outputs": [],
   "source": [
    "import socket\n",
    "import time"
   ]
  },
  {
   "cell_type": "code",
   "execution_count": 2,
   "id": "a0b53e96-35dd-4e99-864d-23291ab2b838",
   "metadata": {},
   "outputs": [],
   "source": [
    "s = socket.socket(socket.AF_INET, socket.SOCK_STREAM)\n",
    "s.connect((socket.gethostname(), 27015))"
   ]
  },
  {
   "cell_type": "code",
   "execution_count": 3,
   "id": "31592839-5fa1-4852-a7a2-ff5498751497",
   "metadata": {},
   "outputs": [
    {
     "data": {
      "text/plain": [
       "8"
      ]
     },
     "execution_count": 3,
     "metadata": {},
     "output_type": "execute_result"
    }
   ],
   "source": [
    "s.send(bytes(\"shutdown\", \"utf-8\"))"
   ]
  },
  {
   "cell_type": "code",
   "execution_count": null,
   "id": "5a2b8f79-28d1-42ec-9c06-b117a000b54c",
   "metadata": {},
   "outputs": [],
   "source": [
    "while True:\n",
    "    s.send(bytes(\"Sending...\", \"utf-8\"))\n",
    "    time.sleep(0.10)"
   ]
  },
  {
   "cell_type": "code",
   "execution_count": 4,
   "id": "ce608329-8366-42bf-8d12-f1b18cfae5f9",
   "metadata": {},
   "outputs": [],
   "source": [
    "s.close()"
   ]
  },
  {
   "cell_type": "code",
   "execution_count": null,
   "id": "3fb6091e-25d7-4c1c-a60e-53c1360a31c2",
   "metadata": {},
   "outputs": [],
   "source": []
  }
 ],
 "metadata": {
  "kernelspec": {
   "display_name": "Python 3 (ipykernel)",
   "language": "python",
   "name": "python3"
  },
  "language_info": {
   "codemirror_mode": {
    "name": "ipython",
    "version": 3
   },
   "file_extension": ".py",
   "mimetype": "text/x-python",
   "name": "python",
   "nbconvert_exporter": "python",
   "pygments_lexer": "ipython3",
   "version": "3.10.4"
  }
 },
 "nbformat": 4,
 "nbformat_minor": 5
}
