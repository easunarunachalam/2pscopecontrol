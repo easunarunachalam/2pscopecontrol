{
 "cells": [
  {
   "cell_type": "code",
   "execution_count": 1,
   "id": "878c5e5f-77d2-424f-8c92-6d893920c9be",
   "metadata": {},
   "outputs": [],
   "source": [
    "import pymmcore\n",
    "import os.path\n",
    "import sys\n",
    "import time"
   ]
  },
  {
   "cell_type": "markdown",
   "id": "740b39d3-4218-45a0-aa70-916da39892df",
   "metadata": {},
   "source": [
    "Installation of packages with pip (example for `nidaqmx`): `C:\\Users\\TCSPC\\anaconda3\\envs\\scopecontrol\\Scripts\\pip3.exe install --user nidaqmx`"
   ]
  },
  {
   "cell_type": "code",
   "execution_count": 3,
   "id": "4f89e2cf-2c16-4151-832a-090d45a2d020",
   "metadata": {},
   "outputs": [],
   "source": [
    "mm_dir = r\"C:\\Program Files\\Micro-Manager-2.0.1\"\n",
    "\n",
    "mmc = pymmcore.CMMCore()"
   ]
  },
  {
   "cell_type": "code",
   "execution_count": 4,
   "id": "69f83ad5-661a-4518-a9eb-d2da0bb13d79",
   "metadata": {},
   "outputs": [
    {
     "data": {
      "text/plain": [
       "'Device API version 70, Module API version 10'"
      ]
     },
     "execution_count": 4,
     "metadata": {},
     "output_type": "execute_result"
    }
   ],
   "source": [
    "pymmcore.CMMCore().getAPIVersionInfo()"
   ]
  },
  {
   "cell_type": "code",
   "execution_count": 5,
   "id": "47043ffc-6db0-4407-9fd1-e174820db7f0",
   "metadata": {},
   "outputs": [],
   "source": [
    "mmc.setDeviceAdapterSearchPaths([mm_dir])\n",
    "mmc.loadSystemConfiguration(os.path.join(mm_dir, \"MMConfig_xyz_shutter_filter2.cfg\"))\n",
    "\n",
    "# mmc.snapImage()\n",
    "# mmc.getImage()"
   ]
  },
  {
   "cell_type": "code",
   "execution_count": 6,
   "id": "417d7375-502e-4416-84eb-7ffe1f36b399",
   "metadata": {},
   "outputs": [
    {
     "data": {
      "text/plain": [
       "('COM1',\n",
       " 'COM2',\n",
       " 'COM8',\n",
       " 'PIZStage',\n",
       " 'XYStage',\n",
       " 'SutterHub',\n",
       " 'Wheel-A',\n",
       " 'Shutter-A',\n",
       " 'Core')"
      ]
     },
     "execution_count": 6,
     "metadata": {},
     "output_type": "execute_result"
    }
   ],
   "source": [
    "mmc.getLoadedDevices()"
   ]
  },
  {
   "cell_type": "markdown",
   "id": "c3caf299-5019-4238-b035-295fd9096314",
   "metadata": {
    "tags": []
   },
   "source": [
    "# PyMMCore control"
   ]
  },
  {
   "cell_type": "markdown",
   "id": "1080ee00-7096-44b2-ae3b-819fb71888a3",
   "metadata": {},
   "source": [
    "## get/set XYZ"
   ]
  },
  {
   "cell_type": "code",
   "execution_count": 7,
   "id": "d0fb42cd-6f79-46b8-aabf-25e2b0122ee4",
   "metadata": {},
   "outputs": [
    {
     "name": "stdout",
     "output_type": "stream",
     "text": [
      "Acceleration :  100\n",
      "Description :  Prior XY stage driver adapter\n",
      "MaxSpeed :  100\n",
      "Port :  COM1\n",
      "SCurve :  100\n",
      "StepSizeX_um :  1.0000\n",
      "StepSizeY_um :  1.0000\n",
      "TransposeMirrorX :  0\n",
      "TransposeMirrorY :  0\n"
     ]
    }
   ],
   "source": [
    "def displayDeviceProperties(devicename):\n",
    "    for prop in mmc.getDevicePropertyNames(devicename):\n",
    "        print(prop, \": \",  mmc.getProperty(devicename, prop))\n",
    "        \n",
    "displayDeviceProperties(\"XYStage\")"
   ]
  },
  {
   "cell_type": "code",
   "execution_count": 8,
   "id": "a8f67e1b-8682-4acb-899f-04729e967c89",
   "metadata": {},
   "outputs": [
    {
     "data": {
      "text/plain": [
       "('XYStage', [2535.0, 1756.0])"
      ]
     },
     "execution_count": 8,
     "metadata": {},
     "output_type": "execute_result"
    }
   ],
   "source": [
    "# XY stage\n",
    "# mmc.setXYPosition(-5000.00,465.00)\n",
    "mmc.getXYStageDevice(), mmc.getXYPosition()"
   ]
  },
  {
   "cell_type": "code",
   "execution_count": 9,
   "id": "e104df68-7e0d-4260-b378-245ca20a30e0",
   "metadata": {},
   "outputs": [
    {
     "data": {
      "text/plain": [
       "42.8777"
      ]
     },
     "execution_count": 9,
     "metadata": {},
     "output_type": "execute_result"
    }
   ],
   "source": [
    "# Z piezo\n",
    "# mmc.setPosition(11)\n",
    "mmc.getPosition()"
   ]
  },
  {
   "cell_type": "code",
   "execution_count": null,
   "id": "29113f8d-3eec-48a5-9a8b-7d080728451c",
   "metadata": {},
   "outputs": [],
   "source": []
  },
  {
   "cell_type": "markdown",
   "id": "b1613732-073b-4d6f-a535-0ac4570b07d1",
   "metadata": {},
   "source": [
    "## get/set shutter/filter wheel position"
   ]
  },
  {
   "cell_type": "markdown",
   "id": "86906dd4-e301-4170-ad19-f90ab3842438",
   "metadata": {},
   "source": [
    "### filter wheel"
   ]
  },
  {
   "cell_type": "code",
   "execution_count": 12,
   "id": "baea068b-1fcd-4ada-b71b-9c15c29ec5da",
   "metadata": {},
   "outputs": [
    {
     "name": "stdout",
     "output_type": "stream",
     "text": [
      "Busy :  0\n",
      "ClosedPosition :  \n",
      "Delay_ms :  0.0000\n",
      "Description :  Sutter Lambda Filter Wheel\n",
      "Label :  Filter-0\n",
      "Name :  Wheel-A\n",
      "State :  0\n",
      "State Change Speed :  3\n"
     ]
    }
   ],
   "source": [
    "for prop in mmc.getDevicePropertyNames(\"Wheel-A\"):\n",
    "    print(prop, \": \",  mmc.getProperty(\"Wheel-A\", prop))"
   ]
  },
  {
   "cell_type": "code",
   "execution_count": 13,
   "id": "31aac87e-df7a-41da-b379-1fa2b50ad43f",
   "metadata": {},
   "outputs": [
    {
     "data": {
      "text/plain": [
       "('Filter-0',\n",
       " 'Filter-1',\n",
       " 'Filter-2',\n",
       " 'Filter-3',\n",
       " 'Filter-4',\n",
       " 'Filter-5',\n",
       " 'Filter-6',\n",
       " 'Filter-7',\n",
       " 'Filter-8',\n",
       " 'Filter-9')"
      ]
     },
     "execution_count": 13,
     "metadata": {},
     "output_type": "execute_result"
    }
   ],
   "source": [
    "wheel_values = mmc.getStateLabels(\"Wheel-A\")\n",
    "wheel_values"
   ]
  },
  {
   "cell_type": "code",
   "execution_count": 28,
   "id": "9c80051c-0290-491b-9c6a-c7920bf12a59",
   "metadata": {},
   "outputs": [
    {
     "data": {
      "text/plain": [
       "'Filter-0'"
      ]
     },
     "execution_count": 28,
     "metadata": {},
     "output_type": "execute_result"
    }
   ],
   "source": [
    "mmc.setStateLabel(\"Wheel-A\", \"Filter-0\")\n",
    "mmc.getStateLabel(\"Wheel-A\")"
   ]
  },
  {
   "cell_type": "code",
   "execution_count": 33,
   "id": "9305cb25-c9c8-4110-9478-9102e80c3c2d",
   "metadata": {},
   "outputs": [],
   "source": [
    "mmc.setStateLabel(\"Wheel-A\", 'Filter-0')"
   ]
  },
  {
   "cell_type": "markdown",
   "id": "9255e968-3108-47a7-a990-01f6a19f46b1",
   "metadata": {},
   "source": [
    "### shutter"
   ]
  },
  {
   "cell_type": "code",
   "execution_count": 2,
   "id": "06128e7f-4993-48e5-8fbd-f64755f7047e",
   "metadata": {},
   "outputs": [
    {
     "ename": "NameError",
     "evalue": "name 'mmc' is not defined",
     "output_type": "error",
     "traceback": [
      "\u001b[1;31m---------------------------------------------------------------------------\u001b[0m",
      "\u001b[1;31mNameError\u001b[0m                                 Traceback (most recent call last)",
      "\u001b[1;32m~\\AppData\\Local\\Temp/ipykernel_13772/494276243.py\u001b[0m in \u001b[0;36m<module>\u001b[1;34m\u001b[0m\n\u001b[1;32m----> 1\u001b[1;33m \u001b[0mmmc\u001b[0m\u001b[1;33m.\u001b[0m\u001b[0msetShutterOpen\u001b[0m\u001b[1;33m(\u001b[0m\u001b[1;32mTrue\u001b[0m\u001b[1;33m)\u001b[0m\u001b[1;33m\u001b[0m\u001b[1;33m\u001b[0m\u001b[0m\n\u001b[0m\u001b[0;32m      2\u001b[0m \u001b[0mmmc\u001b[0m\u001b[1;33m.\u001b[0m\u001b[0mgetShutterOpen\u001b[0m\u001b[1;33m(\u001b[0m\u001b[1;33m)\u001b[0m\u001b[1;33m\u001b[0m\u001b[1;33m\u001b[0m\u001b[0m\n",
      "\u001b[1;31mNameError\u001b[0m: name 'mmc' is not defined"
     ]
    }
   ],
   "source": [
    "mmc.setShutterOpen(True)\n",
    "mmc.getShutterOpen()"
   ]
  },
  {
   "cell_type": "code",
   "execution_count": 41,
   "id": "8630604b-a1c6-4261-8248-49a9f202ca9e",
   "metadata": {},
   "outputs": [
    {
     "data": {
      "text/plain": [
       "False"
      ]
     },
     "execution_count": 41,
     "metadata": {},
     "output_type": "execute_result"
    }
   ],
   "source": [
    "mmc.setShutterOpen(False)\n",
    "mmc.getShutterOpen()"
   ]
  },
  {
   "cell_type": "markdown",
   "id": "545bba3c-8c8f-4cad-917c-c5eb69baa0a4",
   "metadata": {},
   "source": [
    "# Insight control"
   ]
  },
  {
   "cell_type": "code",
   "execution_count": 42,
   "id": "5c5145f5-13a0-44d0-8812-159a0cc5c619",
   "metadata": {},
   "outputs": [],
   "source": [
    "import pyvisa"
   ]
  },
  {
   "cell_type": "code",
   "execution_count": 46,
   "id": "55f83af1-c7fb-4811-90bd-34dc0c687d2c",
   "metadata": {},
   "outputs": [
    {
     "name": "stdout",
     "output_type": "stream",
     "text": [
      "('TCPIP0::140.247.108.15::inst0::INSTR', 'ASRL1::INSTR', 'ASRL2::INSTR', 'ASRL3::INSTR', 'ASRL4::INSTR', 'ASRL5::INSTR', 'ASRL6::INSTR', 'ASRL8::INSTR', 'ASRL11::INSTR')\n"
     ]
    }
   ],
   "source": [
    "rm = pyvisa.ResourceManager()\n",
    "\n",
    "resource_list = rm.list_resources()\n",
    "\n",
    "print(resource_list)"
   ]
  },
  {
   "cell_type": "code",
   "execution_count": 47,
   "id": "2564c276-1e94-4504-9518-3a15b6bd10e6",
   "metadata": {},
   "outputs": [
    {
     "name": "stdout",
     "output_type": "stream",
     "text": [
      "RUN\n",
      "\n",
      "0\n",
      "\n",
      "0.00\n",
      "\n",
      "0.00\n",
      "\n"
     ]
    }
   ],
   "source": [
    "with rm.open_resource(resource_list[-1]) as my_instrument:\n",
    "    my_instrument.baud_rate = 115200\n",
    "    my_instrument.write_termination = '\\r'\n",
    "    # my_instrument.write(\"*IDN?\")\n",
    "    print(my_instrument.query_ascii_values(r\"MODE?\", converter=\"s\")[0])\n",
    "    print(my_instrument.query_ascii_values(r\"SHUTter?\", converter=\"s\")[0])\n",
    "    print(my_instrument.query_ascii_values(r\"READ:POWer?\", converter=\"s\")[0])\n",
    "    \n",
    "    # my_instrument.write_ascii_values(r\"SHUTter 0\", \"\")\n",
    "    # my_instrument.write_ascii_values(r\"OFF\", \"\")\n",
    "    time.sleep(1)\n",
    "    print(my_instrument.query_ascii_values(r\"READ:POWer?\", converter=\"s\")[0])\n",
    "    \n",
    "#     while True:\n",
    "#         print(my_instrument.read_bytes(1))\n"
   ]
  },
  {
   "cell_type": "markdown",
   "id": "35c0f9fa-c335-431c-9ee2-1cdc4f901c34",
   "metadata": {
    "tags": []
   },
   "source": [
    "# ThorLabs Kinesis motorized mounts"
   ]
  },
  {
   "cell_type": "markdown",
   "id": "720800df-ef74-45c3-ab5e-cb0d00cf02c1",
   "metadata": {},
   "source": [
    "refer to documentation at https://pylablib.readthedocs.io/en/latest/devices/Thorlabs_kinesis.html"
   ]
  },
  {
   "cell_type": "markdown",
   "id": "961f6795-d57f-452a-b1b1-2814c2e2cd33",
   "metadata": {},
   "source": [
    "Note that if LabVIEW program was opened, you must reboot the motor controllers in order to detect them with ppylablib."
   ]
  },
  {
   "cell_type": "code",
   "execution_count": 77,
   "id": "6bce9025-98bd-425c-81cd-dcd856ebad18",
   "metadata": {},
   "outputs": [],
   "source": [
    "from pylablib.devices import Thorlabs"
   ]
  },
  {
   "cell_type": "code",
   "execution_count": 78,
   "id": "e0ccbb94-2065-4bc4-991c-cc9cac3e453b",
   "metadata": {},
   "outputs": [
    {
     "name": "stdout",
     "output_type": "stream",
     "text": [
      "[('27253344', 'Brushed Motor Controller'), ('27004338', 'Brushed Motor Controller')]\n"
     ]
    }
   ],
   "source": [
    "kinesis_devices = Thorlabs.list_kinesis_devices()\n",
    "sync_stage, hwp_stage = kinesis_devices[0], kinesis_devices[1]\n",
    "print(kinesis_devices)"
   ]
  },
  {
   "cell_type": "code",
   "execution_count": 97,
   "id": "fc2f54ee-9c09-475a-83f6-9898d687e189",
   "metadata": {},
   "outputs": [
    {
     "name": "stdout",
     "output_type": "stream",
     "text": [
      "['CommData', 'CommShort', 'Error', 'NoParameterCaller', '__bool__', '__class__', '__delattr__', '__dict__', '__dir__', '__doc__', '__enter__', '__eq__', '__exit__', '__format__', '__ge__', '__getattribute__', '__gt__', '__hash__', '__init__', '__init_subclass__', '__le__', '__lt__', '__module__', '__ne__', '__new__', '__reduce__', '__reduce_ex__', '__repr__', '__setattr__', '__sizeof__', '__str__', '__subclasshook__', '__weakref__', '_add_device_variable', '_add_info_variable', '_add_parameter_class', '_add_settings_variable', '_add_status_variable', '_autodetect_stage', '_bg_msg_counters', '_calculate_scale', '_call_without_parameters', '_connection_parameters', '_d2p', '_device_SN', '_device_var_ignore_error', '_device_vars', '_device_vars_order', '_forward_positive', '_get_adc_inputs', '_get_connection_parameters', '_get_device_model', '_get_device_variables', '_get_gen_move_parameters', '_get_homing_parameters', '_get_jog_parameters', '_get_limit_switch_parameters', '_get_position', '_get_scale', '_get_stage', '_get_status', '_get_status_n', '_get_step_scale', '_get_velocity_parameters', '_home', '_is_homed', '_is_homing', '_is_moving', '_jog', '_model_match', '_move_by', '_move_to', '_moving_status', '_multiplex_func', '_p2d', '_p_direction', '_p_home_direction', '_p_hw_limit_kind', '_p_jog_mode', '_p_limit_switch', '_p_stop_mode', '_p_sw_limit_kind', '_parameters', '_replace_parameter_class', '_scale', '_scale_units', '_set_position_reference', '_setup_gen_move', '_setup_homing', '_setup_jog', '_setup_limit_switch', '_setup_parameter_classes', '_setup_velocity', '_stage', '_stop', '_store_as_default', '_update_device_variable_order', '_wait_for_home', '_wait_for_status', '_wait_for_stop', '_wait_move', '_wap', '_wip', '_wop', 'add_background_comm', 'apply_settings', 'blink', 'check_background_comm', 'close', 'dv', 'get_device_info', 'get_device_variable', 'get_full_info', 'get_full_status', 'get_gen_move_parameters', 'get_homing_parameters', 'get_jog_parameters', 'get_limit_switch_parameters', 'get_number_of_channels', 'get_position', 'get_scale', 'get_scale_units', 'get_settings', 'get_stage', 'get_status', 'get_status_n', 'get_velocity_parameters', 'home', 'instr', 'is_homed', 'is_homing', 'is_moving', 'is_opened', 'jog', 'list_devices', 'lock', 'locking', 'move_by', 'move_to', 'open', 'query', 'recv_comm', 'send_comm', 'send_comm_data', 'set_device_variable', 'set_position_reference', 'setup_gen_move', 'setup_homing', 'setup_jog', 'setup_limit_switch', 'setup_velocity', 'status_bits', 'stop', 'unlock', 'wait_for_home', 'wait_for_status', 'wait_for_stop', 'wait_move']\n",
      "\n",
      "{'velocity_parameters': TVelocityParams(min_velocity=0.0, acceleration=19252.18384712934, max_velocity=19195.98877429962), 'jog_parameters': TJogParams(mode='step', step_size=9598, min_velocity=0.0, acceleration=28812.792152166363, max_velocity=28794.988989830017, stop_mode='profiled'), 'homing_parameters': THomeParams(home_direction='reverse', limit_switch='reverse', velocity=19195.98877429962, offset_distance=7679), 'gen_move_parameters': TGenMoveParams(backlash_distance=1920), 'limit_switch_parameters': TLimitSwitchParams(hw_kind_cw='make_home', hw_kind_ccw='ignore', hw_swapped=False, sw_position_cw=1920, sw_position_ccw=1920, sw_kind='ignore'), 'position': 6, 'status': ['homed', 'enabled']}\n",
      "\n",
      "True\n",
      "\n",
      "6\n",
      "\n"
     ]
    }
   ],
   "source": [
    "stage.close()\n",
    "stage = Thorlabs.KinesisMotor('27004338', scale=\"stage\")\n",
    "print(dir(stage), end=\"\\n\\n\")\n",
    "print(stage.get_full_status(), end=\"\\n\\n\")\n",
    "print(stage.is_homed(), end=\"\\n\\n\")\n",
    "print(stage.get_position(), end=\"\\n\\n\")\n",
    "stage.close()"
   ]
  },
  {
   "cell_type": "code",
   "execution_count": 96,
   "id": "ad97e9d0-2b31-454f-ab88-1b6022ea3f2f",
   "metadata": {},
   "outputs": [
    {
     "name": "stderr",
     "output_type": "stream",
     "text": [
      "C:\\Users\\TCSPC\\anaconda3\\envs\\scopecontrol_napari\\lib\\site-packages\\pylablib\\devices\\Thorlabs\\kinesis.py:734: UserWarning: can't recognize the stage name STAGE; assuming step scale of 1\n",
      "  warnings.warn(\"can't recognize the stage name {}; assuming step scale of 1\".format(stage))\n"
     ]
    },
    {
     "name": "stdout",
     "output_type": "stream",
     "text": [
      "{'velocity_parameters': TVelocityParams(min_velocity=0.0, acceleration=19252.18384712934, max_velocity=19195.98877429962), 'jog_parameters': TJogParams(mode='step', step_size=9598, min_velocity=0.0, acceleration=28812.792152166363, max_velocity=28794.988989830017, stop_mode='profiled'), 'homing_parameters': THomeParams(home_direction='reverse', limit_switch='reverse', velocity=19195.98877429962, offset_distance=7679), 'gen_move_parameters': TGenMoveParams(backlash_distance=1920), 'limit_switch_parameters': TLimitSwitchParams(hw_kind_cw='make_home', hw_kind_ccw='ignore', hw_swapped=False, sw_position_cw=1920, sw_position_ccw=1920, sw_kind='ignore'), 'position': 59, 'status': ['homed', 'enabled']}\n",
      "True\n",
      "6\n"
     ]
    }
   ],
   "source": [
    "with Thorlabs.KinesisMotor(\"27004338\", scale=\"stage\") as hwp_stage:\n",
    "    print(hwp_stage.get_full_status())\n",
    "    if not hwp_stage.is_homed():\n",
    "        \n",
    "    # # print(hwp_sample.get_homing_parameters())\n",
    "    # # time.sleep(3)\n",
    "    hwp_stage.home()\n",
    "    hwp_stage.wait_for_home()\n",
    "    hwp_stage.move_by(10)\n",
    "    hwp_stage.move_to(6)\n",
    "    hwp_stage.wait_for_stop()\n",
    "    print(hwp_stage.get_position())\n",
    "    # hwp_sample.move_to(100000)"
   ]
  },
  {
   "cell_type": "markdown",
   "id": "10d88955-eba6-4da0-b523-132b79492a20",
   "metadata": {},
   "source": [
    "# bh trigger"
   ]
  },
  {
   "cell_type": "markdown",
   "id": "337cddc4-ca9d-42ad-b7b5-0166873f65fc",
   "metadata": {},
   "source": [
    "references:\n",
    "https://stackoverflow.com/questions/49951166/nidaqmx-co-channels-cant-write-sample\n",
    "https://github.com/ni/nidaqmx-python/blob/master/nidaqmx/_task_modules/co_channel_collection.py#L160"
   ]
  },
  {
   "cell_type": "code",
   "execution_count": 1,
   "id": "dcde7ccd-bffb-4e41-ba99-2e8c65a458e7",
   "metadata": {},
   "outputs": [],
   "source": [
    "import nidaqmx\n",
    "import nidaqmx.system\n",
    "from nidaqmx.types import CtrTime"
   ]
  },
  {
   "cell_type": "code",
   "execution_count": 2,
   "id": "ea47adff-cbc3-481b-b0ae-5dd4bc98838f",
   "metadata": {},
   "outputs": [],
   "source": [
    "system = nidaqmx.system.System.local()"
   ]
  },
  {
   "cell_type": "code",
   "execution_count": 3,
   "id": "085d58c4-f148-4737-a96c-55bca69ed8f1",
   "metadata": {},
   "outputs": [
    {
     "data": {
      "text/plain": [
       "DriverVersion(major_version=18, minor_version=5, update_version=0)"
      ]
     },
     "execution_count": 3,
     "metadata": {},
     "output_type": "execute_result"
    }
   ],
   "source": [
    "system.driver_version"
   ]
  },
  {
   "cell_type": "code",
   "execution_count": 4,
   "id": "91ce6348-2700-4535-a5f5-7bd6d7ac128a",
   "metadata": {},
   "outputs": [
    {
     "name": "stdout",
     "output_type": "stream",
     "text": [
      "Device(name=Dev1)\n"
     ]
    }
   ],
   "source": [
    "for device in system.devices:\n",
    "    print(device)"
   ]
  },
  {
   "cell_type": "code",
   "execution_count": 6,
   "id": "17a72a4b-53f4-47c1-84bc-c53f5d85b10d",
   "metadata": {},
   "outputs": [],
   "source": [
    "with nidaqmx.Task() as task:\n",
    "    task.co_channels.add_co_pulse_chan_time(counter=\"Dev1/ctr1\", low_time=0.010, high_time=0.010)\n",
    "    task.start()"
   ]
  },
  {
   "cell_type": "code",
   "execution_count": null,
   "id": "19c5930f-cca5-4c0c-b9bc-957e6816e83d",
   "metadata": {},
   "outputs": [],
   "source": []
  }
 ],
 "metadata": {
  "kernelspec": {
   "display_name": "Python 3 (ipykernel)",
   "language": "python",
   "name": "python3"
  },
  "language_info": {
   "codemirror_mode": {
    "name": "ipython",
    "version": 3
   },
   "file_extension": ".py",
   "mimetype": "text/x-python",
   "name": "python",
   "nbconvert_exporter": "python",
   "pygments_lexer": "ipython3",
   "version": "3.9.7"
  }
 },
 "nbformat": 4,
 "nbformat_minor": 5
}
