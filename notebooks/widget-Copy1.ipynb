{
 "cells": [
  {
   "cell_type": "code",
   "execution_count": 2,
   "id": "4bb19f53-8b93-459c-8fa6-b1aaa3e35f9e",
   "metadata": {},
   "outputs": [
    {
     "name": "stdout",
     "output_type": "stream",
     "text": [
      "Device API version 70, Module API version 10\n",
      "Loaded devices: ('COM1', 'COM2', 'COM7', 'PIZStage', 'XYStage', 'SutterHub', 'Wheel-A', 'Shutter-A', 'Core')\n",
      "DriverVersion(major_version=18, minor_version=5, update_version=0)\n",
      "Device(name=Dev1)\n",
      "Kinesis devices: [('27253344', 'Brushed Motor Controller'), ('27004338', 'Brushed Motor Controller')]\n",
      "pyVISA resources: ('TCPIP0::140.247.108.15::inst0::INSTR', 'ASRL1::INSTR', 'ASRL2::INSTR', 'ASRL3::INSTR', 'ASRL4::INSTR', 'ASRL5::INSTR', 'ASRL6::INSTR', 'ASRL7::INSTR', 'ASRL9::INSTR', 'ASRL10::INSTR')\n"
     ]
    },
    {
     "data": {
      "application/vnd.jupyter.widget-view+json": {
       "model_id": "6b679cbe63ed4823ab0911d1434e49fa",
       "version_major": 2,
       "version_minor": 0
      },
      "text/plain": [
       "Box(children=(Box(children=(Label(value='HWP'), FloatText(value=0.0), FloatText(value=0.0)), layout=Layout(dis…"
      ]
     },
     "metadata": {},
     "output_type": "display_data"
    }
   ],
   "source": [
    "import sys\n",
    "sys.path.append(r\"C:/Users/TCSPC/Documents/GitHub/2pscopecontrol/notebooks\")\n",
    "import scopecontrolwidget as scw"
   ]
  },
  {
   "cell_type": "markdown",
   "id": "dfdf39f8-3c87-4c08-8e6e-b0b81e751ef2",
   "metadata": {},
   "source": [
    "# initialize MM-controlled devices"
   ]
  },
  {
   "cell_type": "code",
   "execution_count": 4,
   "id": "6eb80852-dc11-4b5a-8331-645c5db1dec3",
   "metadata": {},
   "outputs": [
    {
     "name": "stdout",
     "output_type": "stream",
     "text": [
      "Device API version 70, Module API version 10\n",
      "['COM1', 'COM2', 'COM7', 'PIZStage', 'XYStage', 'SutterHub', 'Wheel-A', 'Shutter-A', 'Core']\n"
     ]
    }
   ],
   "source": [
    "mm_dir = r\"C:\\Program Files\\Micro-Manager-2.0\"\n",
    "mmc = pymmcore.CMMCore()\n",
    "print(pymmcore.CMMCore().getAPIVersionInfo())\n",
    "\n",
    "mmc.setDeviceAdapterSearchPaths([mm_dir])\n",
    "mmc.loadSystemConfiguration(os.path.join(mm_dir, \"MMConfig_xyz_shutter_filter2.cfg\"))\n",
    "\n",
    "print(list(mmc.getLoadedDevices()))"
   ]
  },
  {
   "cell_type": "markdown",
   "id": "aeb4d4d0-6609-4571-b851-3a0da0294d19",
   "metadata": {},
   "source": [
    "# initialize NI DAQ"
   ]
  },
  {
   "cell_type": "code",
   "execution_count": 5,
   "id": "9639594d-0bb3-48db-90af-0d345a874af0",
   "metadata": {},
   "outputs": [
    {
     "name": "stdout",
     "output_type": "stream",
     "text": [
      "DriverVersion(major_version=18, minor_version=5, update_version=0)\n",
      "Device(name=Dev1)\n"
     ]
    }
   ],
   "source": [
    "system = nidaqmx.system.System.local()\n",
    "print(system.driver_version)\n",
    "for device in system.devices:\n",
    "    print(device)"
   ]
  },
  {
   "cell_type": "markdown",
   "id": "be1a50dd-1728-44e6-9a75-9a7f07c9d529",
   "metadata": {},
   "source": [
    "# initialize HWP and SYNC"
   ]
  },
  {
   "cell_type": "code",
   "execution_count": 20,
   "id": "c61b41fa-8797-49ff-af8e-5d2d2a64f2ff",
   "metadata": {},
   "outputs": [
    {
     "name": "stdout",
     "output_type": "stream",
     "text": [
      "[('27253344', 'Brushed Motor Controller'), ('27004338', 'Brushed Motor Controller')]\n"
     ]
    }
   ],
   "source": [
    "kinesis_devices = Thorlabs.list_kinesis_devices()\n",
    "sync_stage, hwp_stage = kinesis_devices[0], kinesis_devices[1]\n",
    "hwp_ID, sync_ID = kinesis_devices[1][0], kinesis_devices[0][0]\n",
    "hwp_scale = \"stage\"\n",
    "sync_scale = 1920\n",
    "print(kinesis_devices)"
   ]
  },
  {
   "cell_type": "code",
   "execution_count": 21,
   "id": "6bdad728-7f9c-47af-96a5-07e7a664277b",
   "metadata": {},
   "outputs": [
    {
     "name": "stderr",
     "output_type": "stream",
     "text": [
      "Exception in thread Thread-5 (update_status_bg_t1):\n",
      "Traceback (most recent call last):\n",
      "  File \"C:\\Users\\TCSPC\\anaconda3\\envs\\scopecontrol\\lib\\threading.py\", line 1009, in _bootstrap_inner\n",
      "    self.run()\n",
      "  File \"C:\\Users\\TCSPC\\anaconda3\\envs\\scopecontrol\\lib\\threading.py\", line 946, in run\n",
      "    self._target(*self._args, **self._kwargs)\n",
      "  File \"C:\\Users\\TCSPC\\AppData\\Local\\Temp\\ipykernel_912\\3808541567.py\", line 51, in update_status_bg_t1\n",
      "  File \"C:\\Users\\TCSPC\\AppData\\Local\\Temp\\ipykernel_912\\3346340265.py\", line 43, in SYNC_get_pos\n",
      "RuntimeError: release unlocked lock\n"
     ]
    }
   ],
   "source": [
    "hwp_mutex = threading.Lock()\n",
    "sync_mutex = threading.Lock()\n",
    "shutter_mutex = threading.Lock()\n",
    "filtwhl_mutex = threading.Lock()\n",
    "xystage_mutex = threading.Lock()\n",
    "zpiezo_mutex = threading.Lock()\n",
    "laser_mutex = threading.Lock()"
   ]
  },
  {
   "cell_type": "code",
   "execution_count": 22,
   "id": "86e7143d-cc7c-4e5e-99d3-734a2b308bf5",
   "metadata": {},
   "outputs": [
    {
     "name": "stderr",
     "output_type": "stream",
     "text": [
      "sys:1: ResourceWarning: unclosed socket <zmq.Socket(zmq.PUSH) at 0x1b5c7ba8ee0>\n",
      "ResourceWarning: Enable tracemalloc to get the object allocation traceback\n"
     ]
    }
   ],
   "source": [
    "def hwp_home():\n",
    "    global hwp_mutex\n",
    "\n",
    "    hwp_mutex.acquire()\n",
    "    try:\n",
    "        with Thorlabs.KinesisMotor(hwp_ID, scale=hwp_scale) as hwp_stage:\n",
    "            hwp_stage.home()\n",
    "            hwp_stage.wait_for_home()\n",
    "            hwp_stage.move_to(0)\n",
    "    finally:\n",
    "        hwp_mutex.release()\n",
    "        \n",
    "def sync_home():\n",
    "    global sync_mutex\n",
    "\n",
    "    sync_mutex.acquire()\n",
    "    try:\n",
    "        with Thorlabs.KinesisMotor(sync_ID, scale=sync_scale) as sync_stage:\n",
    "            sync_stage.home()\n",
    "            sync_stage.wait_for_home()\n",
    "            sync_stage.move_to(0)\n",
    "    finally:\n",
    "        sync_mutex.release()\n",
    "\n",
    "hwp_home()\n",
    "sync_home()"
   ]
  },
  {
   "cell_type": "code",
   "execution_count": 23,
   "id": "09aef298-bc0e-467b-a589-49b852f768ce",
   "metadata": {},
   "outputs": [],
   "source": [
    "def HWP_set_pos(target):\n",
    "    global hwp_mutex\n",
    "\n",
    "    hwp_mutex.acquire()\n",
    "    try:\n",
    "        with Thorlabs.KinesisMotor(hwp_ID, scale=hwp_scale) as hwp_stage:\n",
    "            hwp_stage.move_to(target)\n",
    "            hwp_stage.wait_for_stop()\n",
    "    finally:\n",
    "        hwp_mutex.release()\n",
    "        \n",
    "def HWP_get_pos():\n",
    "    global hwp_mutex\n",
    "\n",
    "    hwp_mutex.acquire()\n",
    "    try:\n",
    "        with Thorlabs.KinesisMotor(hwp_ID, scale=hwp_scale) as hwp_stage:\n",
    "            pos = hwp_stage.get_position()\n",
    "    finally:\n",
    "        hwp_mutex.release()\n",
    "    \n",
    "    return pos\n",
    "\n",
    "def SYNC_set_pos(target):\n",
    "    global hwp_mutex\n",
    "\n",
    "    sync_mutex.acquire()\n",
    "    try:\n",
    "        with Thorlabs.KinesisMotor(sync_ID, scale=sync_scale) as sync_stage:\n",
    "            sync_stage.move_to(target)\n",
    "            sync_stage.wait_for_stop()\n",
    "    finally:\n",
    "        sync_mutex.release()\n",
    "        \n",
    "def SYNC_get_pos():\n",
    "    global sync_mutex\n",
    "\n",
    "    sync_mutex.acquire()\n",
    "    try:\n",
    "        with Thorlabs.KinesisMotor(sync_ID, scale=sync_scale) as sync_stage:\n",
    "            pos = sync_stage.get_position()\n",
    "    finally:\n",
    "        sync_mutex.release()\n",
    "    \n",
    "    return pos\n",
    "\n",
    "def HWP_value_change(change):\n",
    "    if (change[\"new\"] >= 0) and (change[\"new\"] <= 359.99):        \n",
    "        HWP_set_pos(change[\"new\"])\n",
    "        \n",
    "def SYNC_value_change(change):\n",
    "    if (change[\"new\"] >= 0) and (change[\"new\"] <= 359.99):        \n",
    "        SYNC_set_pos(change[\"new\"])\n",
    "        \n",
    "def shutter_value_change(change):\n",
    "    if change[\"new\"]:\n",
    "        mmc.setShutterOpen(True)\n",
    "    else:\n",
    "        mmc.setShutterOpen(False)\n",
    "        \n",
    "def filtwhl_value_change(change):\n",
    "    mmc.setStateLabel(\"Wheel-A\", \"Filter-\" + str(change[\"owner\"].index))\n",
    "    \n",
    "def filtwhl_get_pos():\n",
    "    currpos = mmc.getStateLabel(\"Wheel-A\")\n",
    "    currindex = wheel_values.index(currpos)\n",
    "    return currindex\n",
    "\n",
    "def XYZ_get_pos():\n",
    "    XYpos = mmc.getXYPosition()\n",
    "    X, Y = tuple(XYpos)\n",
    "    Z = mmc.getPosition()\n",
    "    return X, Y, Z\n",
    "\n",
    "def X_set_pos_abs(new_X):\n",
    "    XYpos = mmc.getXYPosition()\n",
    "    X, Y = tuple(XYpos)\n",
    "    mmc.setXYPosition(new_X[\"new\"],Y)\n",
    "    \n",
    "def Y_set_pos_abs(new_Y):\n",
    "    XYpos = mmc.getXYPosition()\n",
    "    X, Y = tuple(XYpos)\n",
    "    mmc.setXYPosition(X,new_Y[\"new\"])\n",
    "    \n",
    "def Z_set_pos_abs(new_Z):\n",
    "    print(\"newZ = \", new_Z[\"new\"])\n",
    "    mmc.setPosition(new_Z[\"new\"])\n",
    "    # mmc.setPosition(62)\n",
    "    \n",
    "# def X_set_pos_rel(factor=1):\n",
    "#     dX = factor * form_items[7].children[1].value\n",
    "#     X, Y = tuple(mmc.getXYPosition())\n",
    "#     mmc.setXYPosition(X+dX,Y)\n",
    "    \n",
    "# def Y_set_pos_rel(factor=1):\n",
    "#     dY = factor * form_items[8].children[1].value\n",
    "#     X, Y = tuple(mmc.getXYPosition())\n",
    "#     mmc.setXYPosition(X,Y+dY)\n",
    "    \n",
    "# def Z_set_pos_rel(factor=1):\n",
    "#     dZ = factor * form_items[9].children[1].value\n",
    "#     X, Y = tuple(mmc.getXYPosition())\n",
    "    \n",
    "#     Z = mmc.getPosition()\n",
    "#     mmc.setPosition(Z+dZ)\n",
    "    \n",
    "def X_set_pos_rel(dX):\n",
    "    X, Y = tuple(mmc.getXYPosition())\n",
    "    mmc.setXYPosition(X+dX,Y)\n",
    "    \n",
    "def Y_set_pos_rel(dY):\n",
    "    X, Y = tuple(mmc.getXYPosition())\n",
    "    mmc.setXYPosition(X,Y+dY)\n",
    "    \n",
    "def Z_set_pos_rel(dZ):\n",
    "    Z = mmc.getPosition()\n",
    "    mmc.setPosition(Z+dZ)"
   ]
  },
  {
   "cell_type": "code",
   "execution_count": 24,
   "id": "180cd079-85c0-4c11-9d31-4e5bda8bba9e",
   "metadata": {},
   "outputs": [
    {
     "data": {
      "application/vnd.jupyter.widget-view+json": {
       "model_id": "01441451095a472fbaf72768701a88d3",
       "version_major": 2,
       "version_minor": 0
      },
      "text/plain": [
       "Box(children=(Box(children=(Label(value='HWP'), FloatText(value=0.0), FloatText(value=0.0)), layout=Layout(dis…"
      ]
     },
     "metadata": {},
     "output_type": "display_data"
    }
   ],
   "source": [
    "filter_list = [\"Empty\", \"460/50 NADH\", \"560/40\", \"Empty\", \"582/64 FAD2\", \"535/30 GFP/YFP\", \"530/35 GFP/YFP\", \"650/100 Mitotracker\", \"Unknown\", \"Empty\"]\n",
    "wheel_values = mmc.getStateLabels(\"Wheel-A\")\n",
    "\n",
    "form_item_layout = Layout(\n",
    "    display='flex',\n",
    "    flex_flow='row',\n",
    "    justify_content='space-between'\n",
    ")\n",
    "\n",
    "X, Y, Z = XYZ_get_pos()\n",
    "\n",
    "form_items = [\n",
    "    Box([Label(value=\"HWP\"), FloatText(HWP_get_pos()), FloatText()], layout=form_item_layout),\n",
    "    Box([Label(value=\"SYNC\"), FloatText(SYNC_get_pos()), FloatText()], layout=form_item_layout),\n",
    "    Box([Label(value=\"Shutter\"), Checkbox(), Checkbox()], layout=form_item_layout),\n",
    "    Box([Label(value='Emission filter'), Dropdown(options=filter_list), Dropdown(options=filter_list)], layout=form_item_layout),\n",
    "    Box([Label(value=\"X\"), FloatText(X), FloatText()], layout=form_item_layout),\n",
    "    Box([Label(value=\"Y\"), FloatText(Y), FloatText()], layout=form_item_layout),\n",
    "    Box([Label(value=\"Z\"), FloatText(Z), FloatText()], layout=form_item_layout),\n",
    "    Box([Label(value=\"dX\"), FloatText(60), Button(description=\"<\"), Button(description=\">\")], layout=form_item_layout),\n",
    "    Box([Label(value=\"dY\"), FloatText(60), Button(description=\"v\"), Button(description=\"^\")], layout=form_item_layout),\n",
    "    Box([Label(value=\"dZ\"), FloatText(0.5), Button(description=\"v\"), Button(description=\"^\")], layout=form_item_layout),\n",
    "    Box([Label(value=\"Laser WL TARGET\"), FloatText(), FloatText()], layout=form_item_layout),\n",
    "    Box([Label(value=\"Laser MTRPOS TARGET\"), FloatText(), FloatText()], layout=form_item_layout),\n",
    "]\n",
    "\n",
    "form_items[0].children[1].observe(HWP_value_change, names=\"value\")\n",
    "form_items[1].children[1].observe(SYNC_value_change, names=\"value\")\n",
    "form_items[2].children[1].observe(shutter_value_change, names=\"value\")\n",
    "form_items[3].children[1].observe(filtwhl_value_change, names=\"value\")\n",
    "form_items[4].children[1].observe(X_set_pos_abs, names=\"value\")\n",
    "form_items[5].children[1].observe(Y_set_pos_abs, names=\"value\")\n",
    "form_items[6].children[1].observe(Z_set_pos_abs, names=\"value\")\n",
    "form_items[7].children[2].on_click(lambda f: X_set_pos_rel(-form_items[7].children[1].value))\n",
    "form_items[7].children[3].on_click(lambda f: X_set_pos_rel(form_items[7].children[1].value))\n",
    "form_items[8].children[2].on_click(lambda f: Y_set_pos_rel(-form_items[8].children[1].value))\n",
    "form_items[8].children[3].on_click(lambda f: Y_set_pos_rel(form_items[8].children[1].value))\n",
    "form_items[9].children[2].on_click(lambda f: Z_set_pos_rel(-form_items[9].children[1].value))\n",
    "form_items[9].children[3].on_click(lambda f: Z_set_pos_rel(form_items[9].children[1].value))\n",
    "\n",
    "\n",
    "\n",
    "def update_status_bg_t1(form_items):\n",
    "    \"\"\"\n",
    "    Update system status in the background\n",
    "    \"\"\"\n",
    "\n",
    "    while True:\n",
    "        time.sleep(0.1)\n",
    "        form_items[0].children[-1].value = HWP_get_pos()\n",
    "        form_items[1].children[-1].value = SYNC_get_pos()\n",
    "        \n",
    "def update_status_bg_t2(form_items):\n",
    "    \"\"\"\n",
    "    Update system status in the background\n",
    "    \"\"\"\n",
    "\n",
    "    while True:\n",
    "        time.sleep(0.1)\n",
    "        # form_items[0].children[-1].value = HWP_get_pos()\n",
    "        # form_items[1].children[-1].value = SYNC_get_pos()\n",
    "        form_items[2].children[-1].value = mmc.getShutterOpen()\n",
    "        form_items[3].children[-1].index = filtwhl_get_pos()\n",
    "        X, Y, Z = XYZ_get_pos()\n",
    "        form_items[4].children[-1].value = X\n",
    "        form_items[5].children[-1].value = Y\n",
    "        form_items[6].children[-1].value = Z\n",
    "\n",
    "t1 = threading.Thread(target=update_status_bg_t1, args=(form_items,))\n",
    "t2 = threading.Thread(target=update_status_bg_t2, args=(form_items,))\n",
    "\n",
    "form = Box(form_items, layout=Layout(\n",
    "    display='flex',\n",
    "    flex_flow='column',\n",
    "    border='solid 2px',\n",
    "    align_items='stretch',\n",
    "    width='100%'\n",
    "))\n",
    "\n",
    "display(form)\n",
    "\n",
    "t1.start()\n",
    "t2.start()"
   ]
  },
  {
   "cell_type": "markdown",
   "id": "57e0c5e4-82b0-47b2-936c-5635babd9f37",
   "metadata": {},
   "source": [
    "# settings"
   ]
  },
  {
   "cell_type": "markdown",
   "id": "cef13618-b802-417c-85c1-c87d31282f5f",
   "metadata": {},
   "source": [
    "change to data directory for current FOV/cell"
   ]
  },
  {
   "cell_type": "code",
   "execution_count": 9,
   "id": "542a07ac-46b3-4bb8-b998-f2eef0cf3d90",
   "metadata": {},
   "outputs": [
    {
     "name": "stdout",
     "output_type": "stream",
     "text": [
      "C:\\Users\\TCSPC\\Documents\\__Arunachalam\\29 - FCS setup\\fov1\n"
     ]
    }
   ],
   "source": [
    "%cd C:\\Users\\TCSPC\\Documents\\__Arunachalam\\29 - FCS setup\\fov1"
   ]
  },
  {
   "cell_type": "markdown",
   "id": "bf09f4a0-d361-4bcd-b985-608953695620",
   "metadata": {},
   "source": [
    "## settings for initial image"
   ]
  },
  {
   "cell_type": "code",
   "execution_count": 10,
   "id": "b3c71dad-1e20-4bc9-9ab5-63a50ff975d0",
   "metadata": {},
   "outputs": [
    {
     "data": {
      "text/plain": [
       "0.21484375"
      ]
     },
     "execution_count": 10,
     "metadata": {},
     "output_type": "execute_result"
    }
   ],
   "source": [
    "# 1 micron = 4.65 px\n",
    "fov_dim_1xzoom = 440 # um\n",
    "zoom = 8 # for the test image\n",
    "npx = 256 # for the test image\n",
    "pxsize = fov_dim_1xzoom / (zoom*npx)\n",
    "pxsize # in um"
   ]
  },
  {
   "cell_type": "markdown",
   "id": "794aee87-084f-4cde-8ed8-2650a4384f4c",
   "metadata": {},
   "source": [
    "## settings for FCS acquisition"
   ]
  },
  {
   "cell_type": "code",
   "execution_count": 14,
   "id": "5ba1c07f-cb6e-4134-99bb-117e5e4be9ae",
   "metadata": {},
   "outputs": [],
   "source": [
    "move_delay_s, acquisition_length_s, buffer_length_s = 0.5, 2.0, 0.1"
   ]
  },
  {
   "cell_type": "markdown",
   "id": "c3726274-0ac2-4e0f-9f9b-8f9b6188e4f3",
   "metadata": {},
   "source": [
    "## load image and identify target points"
   ]
  },
  {
   "cell_type": "code",
   "execution_count": 16,
   "id": "7b58ea9c-ba09-4e1e-89ee-b1b83544a665",
   "metadata": {},
   "outputs": [
    {
     "name": "stdout",
     "output_type": "stream",
     "text": [
      "(2, 256, 256, 256)\n"
     ]
    },
    {
     "data": {
      "image/png": "[encoded data removed]",
      "text/plain": [
       "<Figure size 1440x720 with 2 Axes>"
      ]
     },
     "metadata": {
      "needs_background": "light"
     },
     "output_type": "display_data"
    }
   ],
   "source": [
    "fig, ax = plt.subplots(figsize=(20,10), ncols=2)\n",
    "\n",
    "im = pc.SDT(\"SDT.sdt\").intensity_image()[0]\n",
    "ax[0].imshow(im, alpha=0.5, cmap=\"Greens\")\n",
    "\n",
    "im_binary = im > threshold_otsu(im)\n",
    "distance = ndi.distance_transform_edt(im_binary)\n",
    "coords = peak_local_max(distance, footprint=np.ones((5, 5)), min_distance=5)\n",
    "mask = np.zeros(distance.shape, dtype=bool)\n",
    "mask[tuple(coords.T)] = True\n",
    "markers, _ = ndi.label(mask)\n",
    "labels = watershed(-distance, markers, mask=im_binary)\n",
    "ax[1].imshow(labels)\n",
    "ax[1].imshow(0.99*(markers > 0), cmap=\"Reds\", alpha=0.5)\n",
    "\n",
    "plt.show()"
   ]
  },
  {
   "cell_type": "code",
   "execution_count": 17,
   "id": "3b0764a6-66c2-4bb6-8a2e-2458265f77ed",
   "metadata": {},
   "outputs": [
    {
     "data": {
      "application/vnd.jupyter.widget-view+json": {
       "model_id": "ca491e3273854727b174d5257485bd75",
       "version_major": 2,
       "version_minor": 0
      },
      "text/plain": [
       "target points:   0%|          | 0/72 [00:00<?, ?it/s]"
      ]
     },
     "metadata": {},
     "output_type": "display_data"
    },
    {
     "ename": "NameError",
     "evalue": "name 'dfdfdfd' is not defined",
     "output_type": "error",
     "traceback": [
      "\u001b[1;31m---------------------------------------------------------------------------\u001b[0m",
      "\u001b[1;31mNameError\u001b[0m                                 Traceback (most recent call last)",
      "\u001b[1;32m~\\AppData\\Local\\Temp/ipykernel_11184/2598247208.py\u001b[0m in \u001b[0;36m<module>\u001b[1;34m\u001b[0m\n\u001b[0;32m     31\u001b[0m     \u001b[0mtime\u001b[0m\u001b[1;33m.\u001b[0m\u001b[0msleep\u001b[0m\u001b[1;33m(\u001b[0m\u001b[0macquisition_length_s\u001b[0m\u001b[1;33m+\u001b[0m\u001b[0mbuffer_length_s\u001b[0m\u001b[1;33m)\u001b[0m\u001b[1;33m\u001b[0m\u001b[1;33m\u001b[0m\u001b[0m\n\u001b[0;32m     32\u001b[0m     \u001b[0mmmc\u001b[0m\u001b[1;33m.\u001b[0m\u001b[0msetShutterOpen\u001b[0m\u001b[1;33m(\u001b[0m\u001b[1;32mFalse\u001b[0m\u001b[1;33m)\u001b[0m\u001b[1;33m\u001b[0m\u001b[1;33m\u001b[0m\u001b[0m\n\u001b[1;32m---> 33\u001b[1;33m     \u001b[0mdfdfdfd\u001b[0m\u001b[1;33m\u001b[0m\u001b[1;33m\u001b[0m\u001b[0m\n\u001b[0m\u001b[0;32m     34\u001b[0m \u001b[1;33m\u001b[0m\u001b[0m\n\u001b[0;32m     35\u001b[0m     \u001b[0malready_measured\u001b[0m\u001b[1;33m[\u001b[0m\u001b[0mcurr_index\u001b[0m\u001b[1;33m]\u001b[0m \u001b[1;33m=\u001b[0m \u001b[1;32mTrue\u001b[0m\u001b[1;33m\u001b[0m\u001b[1;33m\u001b[0m\u001b[0m\n",
      "\u001b[1;31mNameError\u001b[0m: name 'dfdfdfd' is not defined"
     ]
    }
   ],
   "source": [
    "def calc_displacement(origin, destination=[127.5,127.5], px_to_micron=pxsize):\n",
    "    dxy = destination - origin\n",
    "    dX = -1*dxy[0]*px_to_micron\n",
    "    dY = dxy[1]*px_to_micron\n",
    "    return dX, dY\n",
    "\n",
    "# curr_index, coords[curr_index], calc_displacement(coords[curr_index])\n",
    "\n",
    "y, x = tuple(coords.T)\n",
    "n = len(x)\n",
    "xa = np.tile(x, (n,1))\n",
    "dx2 = np.square(xa - xa.T)\n",
    "ya = np.tile(y, (n,1))\n",
    "dy2 = np.square(ya - ya.T)\n",
    "dR = np.sqrt(dx2 + dy2)\n",
    "ind_maxdist_0, ind_maxdist_1 = np.unravel_index(np.argmax(dR, axis=None), dR.shape)\n",
    "dR[np.arange(n), np.arange(n)] = np.inf\n",
    "\n",
    "with tqdm(total=len(x), desc=\"target points\") as pbar:\n",
    "    already_measured = np.zeros_like(x, dtype=bool)\n",
    "\n",
    "    curr_index = ind_maxdist_0\n",
    "    # print(curr_index)\n",
    "\n",
    "    # acquire current point\n",
    "    dX, dY = calc_displacement(coords[curr_index])\n",
    "    X_set_pos_rel(dX)\n",
    "    X_set_pos_rel(dY)\n",
    "    time.sleep(move_delay_s)\n",
    "    mmc.setShutterOpen(True)\n",
    "    time.sleep(acquisition_length_s+buffer_length_s)\n",
    "    mmc.setShutterOpen(False)\n",
    "    dfdfdfd\n",
    "\n",
    "    already_measured[curr_index] = True\n",
    "    dR[:,curr_index] = np.inf\n",
    "    pbar.update(1)\n",
    "\n",
    "\n",
    "    while np.any(~already_measured):\n",
    "        old_position = coords[curr_index]\n",
    "        index_closest = np.argmin(dR[curr_index])\n",
    "        curr_index = index_closest\n",
    "        # print(curr_index)\n",
    "\n",
    "        # acquire current point\n",
    "        dX, dY = calc_displacement(old_position, destination=coords[curr_index])\n",
    "        X_set_pos_rel(dX)\n",
    "        X_set_pos_rel(dY)\n",
    "        time.sleep(move_delay_s)\n",
    "        mmc.setShutterOpen(True)\n",
    "        time.sleep(acquisition_length_s+buffer_length_s)\n",
    "        mmc.setShutterOpen(False)\n",
    "\n",
    "        already_measured[curr_index] = True\n",
    "        dR[:,curr_index] = np.inf\n",
    "        pbar.update(1)"
   ]
  },
  {
   "cell_type": "code",
   "execution_count": null,
   "id": "882b6574-fcce-44c6-b50c-2557a1c3479c",
   "metadata": {},
   "outputs": [],
   "source": []
  }
 ],
 "metadata": {
  "kernelspec": {
   "display_name": "Python 3 (ipykernel)",
   "language": "python",
   "name": "python3"
  },
  "language_info": {
   "codemirror_mode": {
    "name": "ipython",
    "version": 3
   },
   "file_extension": ".py",
   "mimetype": "text/x-python",
   "name": "python",
   "nbconvert_exporter": "python",
   "pygments_lexer": "ipython3",
   "version": "3.10.4"
  }
 },
 "nbformat": 4,
 "nbformat_minor": 5
}
