{
 "cells": [
  {
   "cell_type": "code",
   "execution_count": 1,
   "id": "37f9ce46-48da-45d6-b1e3-a8c8465a5a66",
   "metadata": {},
   "outputs": [],
   "source": [
    "import numpy as np\n",
    "import matplotlib.pyplot as plt\n",
    "\n",
    "from scipy.optimize import curve_fit"
   ]
  },
  {
   "cell_type": "code",
   "execution_count": 2,
   "id": "3ca170c4-f5dd-462e-ac8e-f000818948e8",
   "metadata": {},
   "outputs": [],
   "source": [
    "%matplotlib inline"
   ]
  },
  {
   "cell_type": "code",
   "execution_count": 41,
   "id": "95f22de8-085f-405f-b790-b1823d8bc26b",
   "metadata": {},
   "outputs": [
    {
     "data": {
      "text/plain": [
       "array([0.048, 0.038, 0.047, 0.074, 0.118, 0.177, 0.254, 0.35 , 0.464,\n",
       "       0.591, 0.734, 0.898, 1.071, 1.136, 1.375, 1.542, 1.811, 2.045,\n",
       "       2.293, 2.555])"
      ]
     },
     "execution_count": 41,
     "metadata": {},
     "output_type": "execute_result"
    }
   ],
   "source": [
    "hwp, power = np.array([\n",
    "    [65, 0.048],\n",
    "    [64, 0.038],\n",
    "    [63, 0.047],\n",
    "    [62, 0.074],\n",
    "    [61, 0.118],\n",
    "    [60, 0.177],\n",
    "    [59, 0.254],\n",
    "    [58, 0.350],\n",
    "    [57, 0.464],\n",
    "    [56, 0.591],\n",
    "    [55, 0.734],\n",
    "    [54, 0.898],\n",
    "    [53, 1.071],\n",
    "    [53, 1.136],\n",
    "    [52, 1.375],\n",
    "    [51, 1.542],\n",
    "    [50, 1.811],\n",
    "    [49, 2.045],\n",
    "    [48, 2.293],\n",
    "    [47, 2.555],\n",
    "]).T\n",
    "\n",
    "hwp, power = np.array([\n",
    "    [65, 0.048],\n",
    "    [64, 0.038],\n",
    "    [63, 0.047],\n",
    "    [62, 0.074],\n",
    "    [61, 0.118],\n",
    "    [60, 0.177],\n",
    "    [59, 0.254],\n",
    "    [58, 0.350],\n",
    "    [57, 0.464],\n",
    "    [56, 0.591],\n",
    "    [55, 0.734],\n",
    "    [54, 0.898],\n",
    "    [53, 1.071],\n",
    "    [53, 1.136],\n",
    "    [52, 1.375],\n",
    "    [51, 1.542],\n",
    "    [50, 1.811],\n",
    "    [49, 2.045],\n",
    "    [48, 2.293],\n",
    "    [47, 2.555],\n",
    "]).T\n",
    "\n",
    "power"
   ]
  },
  {
   "cell_type": "code",
   "execution_count": 43,
   "id": "390553c9-4fa4-4f45-8f2d-959bfb987c1c",
   "metadata": {},
   "outputs": [
    {
     "data": {
      "text/plain": [
       "(16.73933081282335, array([3.03517487e+01, 6.38494477e+01, 3.71907103e-02]))"
      ]
     },
     "execution_count": 43,
     "metadata": {},
     "output_type": "execute_result"
    },
    {
     "data": {
      "image/png": "[encoded data removed]",
      "text/plain": [
       "<Figure size 432x288 with 1 Axes>"
      ]
     },
     "metadata": {
      "needs_background": "light"
     },
     "output_type": "display_data"
    }
   ],
   "source": [
    "def func(x, A, x0, c):\n",
    "    return( A * np.square(np.sin((x-x0)*np.pi/180))) + c\n",
    "\n",
    "popt, pcov = curve_fit(func, hwp, power, p0=[10,62,0], bounds=([0, 0, -2],[np.inf, 360, 2]))\n",
    "\n",
    "plt.scatter(hwp, power)\n",
    "hwp_ = np.arange(30,63,0.01)\n",
    "plt.plot(hwp_, func(hwp_, *popt), 'g--')\n",
    "\n",
    "A_, x0_, c_ = tuple(popt)\n",
    "\n",
    "targetpower = 2.555\n",
    "np.arcsin(np.sqrt((targetpower - c_)/A_))*180/np.pi, popt"
   ]
  },
  {
   "cell_type": "code",
   "execution_count": null,
   "id": "bff1877f-8abe-4c6d-9610-91c43354d1bd",
   "metadata": {},
   "outputs": [],
   "source": []
  }
 ],
 "metadata": {
  "kernelspec": {
   "display_name": "Python 3 (ipykernel)",
   "language": "python",
   "name": "python3"
  },
  "language_info": {
   "codemirror_mode": {
    "name": "ipython",
    "version": 3
   },
   "file_extension": ".py",
   "mimetype": "text/x-python",
   "name": "python",
   "nbconvert_exporter": "python",
   "pygments_lexer": "ipython3",
   "version": "3.10.4"
  }
 },
 "nbformat": 4,
 "nbformat_minor": 5
}
