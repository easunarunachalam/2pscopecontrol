{
 "cells": [
  {
   "cell_type": "code",
   "execution_count": 15,
   "id": "66dc111d-f944-4922-a3a7-fefb55d8d9b2",
   "metadata": {},
   "outputs": [],
   "source": [
    "import numpy as np"
   ]
  },
  {
   "cell_type": "code",
   "execution_count": 16,
   "id": "36a7f384-0330-4593-ae2c-4ab2ff3e19f9",
   "metadata": {},
   "outputs": [],
   "source": [
    "from pycromanager import Bridge"
   ]
  },
  {
   "cell_type": "code",
   "execution_count": 24,
   "id": "b2edda4e-fddf-4520-ba82-316b657a2b01",
   "metadata": {},
   "outputs": [
    {
     "name": "stdout",
     "output_type": "stream",
     "text": [
      "<pycromanager.core.mmcorej_CMMCore object at 0x000001B33C84F7F0>\n"
     ]
    },
    {
     "ename": "Exception",
     "evalue": "Incorrect arguments. \nExpected double[], double[] or java.lang.String, double[], double[] \nGot <class 'numpy.float64'>, <class 'numpy.float64'>",
     "output_type": "error",
     "traceback": [
      "\u001b[1;31m---------------------------------------------------------------------------\u001b[0m",
      "\u001b[1;31mException\u001b[0m                                 Traceback (most recent call last)",
      "\u001b[1;32m~\\AppData\\Local\\Temp/ipykernel_13288/4029626190.py\u001b[0m in \u001b[0;36m<module>\u001b[1;34m\u001b[0m\n\u001b[0;32m      8\u001b[0m     \u001b[0my\u001b[0m \u001b[1;33m=\u001b[0m \u001b[0mnp\u001b[0m\u001b[1;33m.\u001b[0m\u001b[0mdouble\u001b[0m\u001b[1;33m(\u001b[0m\u001b[1;36m0.\u001b[0m\u001b[1;33m)\u001b[0m\u001b[1;33m\u001b[0m\u001b[1;33m\u001b[0m\u001b[0m\n\u001b[0;32m      9\u001b[0m \u001b[1;33m\u001b[0m\u001b[0m\n\u001b[1;32m---> 10\u001b[1;33m     \u001b[0mprint\u001b[0m\u001b[1;33m(\u001b[0m\u001b[0mcore\u001b[0m\u001b[1;33m.\u001b[0m\u001b[0mget_xy_position\u001b[0m\u001b[1;33m(\u001b[0m\u001b[0mx\u001b[0m\u001b[1;33m,\u001b[0m \u001b[0my\u001b[0m\u001b[1;33m)\u001b[0m\u001b[1;33m)\u001b[0m\u001b[1;33m\u001b[0m\u001b[1;33m\u001b[0m\u001b[0m\n\u001b[0m",
      "\u001b[1;32m~\\anaconda3\\envs\\scopecontrol\\lib\\site-packages\\pycromanager\\core.py\u001b[0m in \u001b[0;36m<lambda>\u001b[1;34m(instance, signatures_list, *args)\u001b[0m\n\u001b[0;32m    430\u001b[0m                 fn = lambda instance, *args, signatures_list=tuple(\n\u001b[0;32m    431\u001b[0m                     \u001b[0mmethods_with_name\u001b[0m\u001b[1;33m\u001b[0m\u001b[1;33m\u001b[0m\u001b[0m\n\u001b[1;32m--> 432\u001b[1;33m                 ): instance._translate_call(signatures_list, args)\n\u001b[0m\u001b[0;32m    433\u001b[0m                 \u001b[0mfn\u001b[0m\u001b[1;33m.\u001b[0m\u001b[0m__name__\u001b[0m \u001b[1;33m=\u001b[0m \u001b[0mmethod_name_modified\u001b[0m\u001b[1;33m\u001b[0m\u001b[1;33m\u001b[0m\u001b[0m\n\u001b[0;32m    434\u001b[0m                 fn.__doc__ = \"{}.{}: A dynamically generated Java method.\".format(\n",
      "\u001b[1;32m~\\anaconda3\\envs\\scopecontrol\\lib\\site-packages\\pycromanager\\core.py\u001b[0m in \u001b[0;36m_translate_call\u001b[1;34m(self, method_specs, fn_args)\u001b[0m\n\u001b[0;32m    538\u001b[0m         \u001b[1;31m# args that are none are placeholders to allow for polymorphism and not considered part of the spec\u001b[0m\u001b[1;33m\u001b[0m\u001b[1;33m\u001b[0m\u001b[0m\n\u001b[0;32m    539\u001b[0m         \u001b[1;31m# fn_args = [a for a in fn_args if a is not None]\u001b[0m\u001b[1;33m\u001b[0m\u001b[1;33m\u001b[0m\u001b[0m\n\u001b[1;32m--> 540\u001b[1;33m         \u001b[0mvalid_method_spec\u001b[0m\u001b[1;33m,\u001b[0m \u001b[0mdeserialize_types\u001b[0m \u001b[1;33m=\u001b[0m \u001b[0m_check_method_args\u001b[0m\u001b[1;33m(\u001b[0m\u001b[0mmethod_specs\u001b[0m\u001b[1;33m,\u001b[0m \u001b[0mfn_args\u001b[0m\u001b[1;33m)\u001b[0m\u001b[1;33m\u001b[0m\u001b[1;33m\u001b[0m\u001b[0m\n\u001b[0m\u001b[0;32m    541\u001b[0m         \u001b[1;31m# args are good, make call through socket, casting the correct type if needed (e.g. int to float)\u001b[0m\u001b[1;33m\u001b[0m\u001b[1;33m\u001b[0m\u001b[0m\n\u001b[0;32m    542\u001b[0m         message = {\n",
      "\u001b[1;32m~\\anaconda3\\envs\\scopecontrol\\lib\\site-packages\\pycromanager\\core.py\u001b[0m in \u001b[0;36m_check_method_args\u001b[1;34m(method_specs, fn_args)\u001b[0m\n\u001b[0;32m    702\u001b[0m \u001b[1;33m\u001b[0m\u001b[0m\n\u001b[0;32m    703\u001b[0m     \u001b[1;32mif\u001b[0m \u001b[0mvalid_method_spec\u001b[0m \u001b[1;32mis\u001b[0m \u001b[1;32mNone\u001b[0m\u001b[1;33m:\u001b[0m\u001b[1;33m\u001b[0m\u001b[1;33m\u001b[0m\u001b[0m\n\u001b[1;32m--> 704\u001b[1;33m         raise Exception(\n\u001b[0m\u001b[0;32m    705\u001b[0m             \"Incorrect arguments. \\nExpected {} \\nGot {}\".format(\n\u001b[0;32m    706\u001b[0m                 \u001b[1;34m\" or \"\u001b[0m\u001b[1;33m.\u001b[0m\u001b[0mjoin\u001b[0m\u001b[1;33m(\u001b[0m\u001b[1;33m[\u001b[0m\u001b[1;34m\", \"\u001b[0m\u001b[1;33m.\u001b[0m\u001b[0mjoin\u001b[0m\u001b[1;33m(\u001b[0m\u001b[0mmethod_spec\u001b[0m\u001b[1;33m[\u001b[0m\u001b[1;34m\"arguments\"\u001b[0m\u001b[1;33m]\u001b[0m\u001b[1;33m)\u001b[0m \u001b[1;32mfor\u001b[0m \u001b[0mmethod_spec\u001b[0m \u001b[1;32min\u001b[0m \u001b[0mmethod_specs\u001b[0m\u001b[1;33m]\u001b[0m\u001b[1;33m)\u001b[0m\u001b[1;33m,\u001b[0m\u001b[1;33m\u001b[0m\u001b[1;33m\u001b[0m\u001b[0m\n",
      "\u001b[1;31mException\u001b[0m: Incorrect arguments. \nExpected double[], double[] or java.lang.String, double[], double[] \nGot <class 'numpy.float64'>, <class 'numpy.float64'>"
     ]
    }
   ],
   "source": [
    "with Bridge() as bridge:\n",
    "    \n",
    "    print(bridge.get_core())\n",
    "    \n",
    "    core = bridge.get_core()\n",
    "    \n",
    "    x = np.double(0.)\n",
    "    y = np.double(0.)\n",
    "    \n",
    "    print(core.get_xy_position(x, y))"
   ]
  },
  {
   "cell_type": "code",
   "execution_count": 21,
   "id": "9619b58e-519a-4887-897a-d2a7ae725f72",
   "metadata": {},
   "outputs": [
    {
     "data": {
      "text/plain": [
       "0.0"
      ]
     },
     "execution_count": 21,
     "metadata": {},
     "output_type": "execute_result"
    }
   ],
   "source": []
  },
  {
   "cell_type": "code",
   "execution_count": null,
   "id": "2ab10ecc-2535-4e5f-9cf5-a6675e8783de",
   "metadata": {},
   "outputs": [],
   "source": []
  }
 ],
 "metadata": {
  "kernelspec": {
   "display_name": "Python 3 (ipykernel)",
   "language": "python",
   "name": "python3"
  },
  "language_info": {
   "codemirror_mode": {
    "name": "ipython",
    "version": 3
   },
   "file_extension": ".py",
   "mimetype": "text/x-python",
   "name": "python",
   "nbconvert_exporter": "python",
   "pygments_lexer": "ipython3",
   "version": "3.9.7"
  }
 },
 "nbformat": 4,
 "nbformat_minor": 5
}
