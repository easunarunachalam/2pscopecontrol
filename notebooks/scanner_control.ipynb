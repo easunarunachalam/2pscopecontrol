{
 "cells": [
  {
   "cell_type": "code",
   "execution_count": 8,
   "id": "728b8e7a-b752-4d35-830f-1cd98f1b6a5a",
   "metadata": {},
   "outputs": [],
   "source": [
    "import numpy as np"
   ]
  },
  {
   "cell_type": "code",
   "execution_count": 9,
   "id": "a08200a3-78e6-453d-a00e-6bbe0f397ead",
   "metadata": {},
   "outputs": [],
   "source": [
    "import nidaqmx\n",
    "import nidaqmx.stream_writers\n",
    "import nidaqmx.system\n",
    "from nidaqmx.types import CtrTime"
   ]
  },
  {
   "cell_type": "code",
   "execution_count": 10,
   "id": "d473fdb0-399b-4ead-a5a6-727df5a77612",
   "metadata": {},
   "outputs": [],
   "source": [
    "system = nidaqmx.system.System.local()"
   ]
  },
  {
   "cell_type": "code",
   "execution_count": 11,
   "id": "afeff2f3-551f-4224-8d37-5387a1afa26d",
   "metadata": {},
   "outputs": [
    {
     "data": {
      "text/plain": [
       "DriverVersion(major_version=18, minor_version=5, update_version=0)"
      ]
     },
     "execution_count": 11,
     "metadata": {},
     "output_type": "execute_result"
    }
   ],
   "source": [
    "system.driver_version"
   ]
  },
  {
   "cell_type": "code",
   "execution_count": 12,
   "id": "dd0644c0-f5be-494c-afde-9f3e8a39e93a",
   "metadata": {},
   "outputs": [
    {
     "name": "stdout",
     "output_type": "stream",
     "text": [
      "Device(name=Dev1)\n"
     ]
    }
   ],
   "source": [
    "for device in system.devices:\n",
    "    print(device)"
   ]
  },
  {
   "cell_type": "code",
   "execution_count": 13,
   "id": "69376d63-37f1-46eb-9dc6-1d071dae4149",
   "metadata": {},
   "outputs": [],
   "source": [
    "# https://stackoverflow.com/questions/49951166/nidaqmx-co-channels-cant-write-sample\n",
    "# https://github.com/ni/nidaqmx-python/blob/master/nidaqmx/_task_modules/co_channel_collection.py#L160"
   ]
  },
  {
   "cell_type": "code",
   "execution_count": 14,
   "id": "87fadc51-d140-4df7-8c8d-69733c0b7bd8",
   "metadata": {},
   "outputs": [],
   "source": [
    "import matplotlib.pyplot as plt"
   ]
  },
  {
   "cell_type": "code",
   "execution_count": 15,
   "id": "dd6fc4b6-39b7-46b4-ab4a-049bfa26ff5b",
   "metadata": {},
   "outputs": [],
   "source": [
    "def sine_signal(A=5, f=10, phi=0, n_sec=1, sample_factor=64):\n",
    "    \"\"\"\n",
    "    f = frequency in Hz\n",
    "    sample_factor should be well over nyquist limit (2)\n",
    "    \"\"\"\n",
    "    \n",
    "    rate = f*sample_factor # samples per channel per second\n",
    "    n_samples = n_sec * rate\n",
    "    t = np.linspace(0, n_sec, n_samples)\n",
    "    \n",
    "    signal = A*np.sin(2*np.pi*f*t + phi)\n",
    "    \n",
    "    return t, signal, rate, n_samples\n",
    "\n",
    "def constant_signal(A=6, n_sec=0.010, sample_factor=64):\n",
    "    n_samples = 1\n",
    "    t = np.linspace(0, n_sec, n_samples)\n",
    "    \n",
    "    signal = A*np.ones_like(t)\n",
    "    \n",
    "    return t, signal, rate, n_samples"
   ]
  },
  {
   "cell_type": "code",
   "execution_count": 16,
   "id": "53c057d4-25cc-410d-b401-bcceebd5e0d3",
   "metadata": {},
   "outputs": [],
   "source": [
    "def scanner_custom_signal(samples_x, samples_y, rate=100, timeout_sec=10):\n",
    "    with nidaqmx.Task() as task:\n",
    "        task.ao_channels.add_ao_voltage_chan(\"Dev1/ao0\")\n",
    "        task.ao_channels.add_ao_voltage_chan(\"Dev1/ao1\")\n",
    "        task.timing.cfg_samp_clk_timing(\n",
    "            rate,\n",
    "            sample_mode=nidaqmx.constants.AcquisitionType.CONTINUOUS,\n",
    "            samps_per_chan=len(samples)\n",
    "        )\n",
    "        writer = nidaqmx.stream_writers.AnalogMultiChannelWriter(task.out_stream, auto_start=True)\n",
    "        print(np.array([\n",
    "            samples_x, # x galvo, first mirror\n",
    "            samples_y # y galvo, second mirror\n",
    "        ]))\n",
    "        writer.write_many_sample(np.array([\n",
    "            samples_x, # x galvo, first mirror\n",
    "            samples_y # y galvo, second mirror\n",
    "        ]))\n",
    "        task.wait_until_done(timeout=timeout_sec)\n",
    "\n",
    "        task.stop()\n",
    "        task.close()\n",
    "        task.start()\n",
    "\n",
    "def scanner_parkbeam(Ax=0, Ay=0, timeout_sec=1):\n",
    "    \n",
    "    with nidaqmx.Task() as task:\n",
    "        task.ao_channels.add_ao_voltage_chan(\"Dev1/ao0\")\n",
    "        task.ao_channels.add_ao_voltage_chan(\"Dev1/ao1\")\n",
    "        # task.timing.cfg_samp_clk_timing(\n",
    "        #     rate,\n",
    "        #     sample_mode=nidaqmx.constants.AcquisitionType.CONTINUOUS,\n",
    "        #     samps_per_chan=len(samples)\n",
    "        # )\n",
    "        writer = nidaqmx.stream_writers.AnalogMultiChannelWriter(task.out_stream, auto_start=True)\n",
    "        writer.write_one_sample(np.array([\n",
    "            np.float64(Ax), # x galvo, first mirror\n",
    "            np.float64(Ay) # y galvo, second mirror\n",
    "        ]))\n",
    "        task.wait_until_done(timeout=timeout_sec)\n",
    "\n",
    "        # task.stop()\n",
    "        # task.close()\n",
    "        task.start()\n",
    "    # scanner_custom_signal(\n",
    "    #     np.array([Ax,Ax], dtype=np.float64),\n",
    "    #     np.array([Ay,Ay], dtype=np.float64),\n",
    "    #     rate=100\n",
    "    # )"
   ]
  },
  {
   "cell_type": "code",
   "execution_count": 17,
   "id": "7627673d-e0d6-4985-a77b-a2c87c89f02e",
   "metadata": {},
   "outputs": [],
   "source": [
    "scanner_parkbeam(Ax=0,Ay=0)"
   ]
  },
  {
   "cell_type": "code",
   "execution_count": 14,
   "id": "a13f8931-46a3-4d10-b53e-18b898dd04d6",
   "metadata": {},
   "outputs": [
    {
     "data": {
      "text/plain": [
       "[<matplotlib.lines.Line2D at 0x1fc5874a3d0>]"
      ]
     },
     "execution_count": 14,
     "metadata": {},
     "output_type": "execute_result"
    },
    {
     "data": {
      "image/png": "[encoded data removed]",
      "text/plain": [
       "<Figure size 432x288 with 1 Axes>"
      ]
     },
     "metadata": {
      "needs_background": "light"
     },
     "output_type": "display_data"
    }
   ],
   "source": [
    "A = 6\n",
    "n_sec = 10\n",
    "rate = 100 # samples per channel per second\n",
    "n_samples = n_sec * rate\n",
    "nphi1 = 256\n",
    "nphi2 = 256\n",
    "dphi1 = 0.1\n",
    "dphi2 = 0.1\n",
    "t = np.linspace(0, n_sec, n_samples)\n",
    "\n",
    "x = np.linspace(-A, A, n_samples)\n",
    "\n",
    "plt.plot(t, x)"
   ]
  },
  {
   "cell_type": "code",
   "execution_count": 66,
   "id": "483072df-92e2-4b37-8851-d2334909f2b6",
   "metadata": {},
   "outputs": [
    {
     "ename": "DaqError",
     "evalue": "Wait Until Done did not indicate that the task was done within the specified timeout.\n\nIncrease the timeout, check the program, and make sure connections for external timing and triggering are in place.\nTask Name: _unnamedTask<39>\n\nStatus Code: -200560",
     "output_type": "error",
     "traceback": [
      "\u001b[1;31m---------------------------------------------------------------------------\u001b[0m",
      "\u001b[1;31mDaqError\u001b[0m                                  Traceback (most recent call last)",
      "\u001b[1;32m~\\AppData\\Local\\Temp/ipykernel_13456/1318745138.py\u001b[0m in \u001b[0;36m<module>\u001b[1;34m\u001b[0m\n\u001b[0;32m      1\u001b[0m \u001b[0mt\u001b[0m\u001b[1;33m,\u001b[0m \u001b[0msamples\u001b[0m\u001b[1;33m,\u001b[0m \u001b[0mrate\u001b[0m\u001b[1;33m,\u001b[0m \u001b[0mn_samples\u001b[0m \u001b[1;33m=\u001b[0m \u001b[0msine_signal\u001b[0m\u001b[1;33m(\u001b[0m\u001b[0mA\u001b[0m\u001b[1;33m=\u001b[0m\u001b[1;36m6\u001b[0m\u001b[1;33m,\u001b[0m \u001b[0mf\u001b[0m\u001b[1;33m=\u001b[0m\u001b[1;36m3\u001b[0m\u001b[1;33m)\u001b[0m\u001b[1;33m\u001b[0m\u001b[1;33m\u001b[0m\u001b[0m\n\u001b[1;32m----> 2\u001b[1;33m \u001b[0mmove_scanner_custom_signal\u001b[0m\u001b[1;33m(\u001b[0m\u001b[0msamples\u001b[0m\u001b[1;33m,\u001b[0m \u001b[0mrate\u001b[0m\u001b[1;33m,\u001b[0m \u001b[0mtimeout_sec\u001b[0m\u001b[1;33m=\u001b[0m\u001b[1;36m60\u001b[0m\u001b[1;33m)\u001b[0m\u001b[1;33m\u001b[0m\u001b[1;33m\u001b[0m\u001b[0m\n\u001b[0m",
      "\u001b[1;32m~\\AppData\\Local\\Temp/ipykernel_13456/1470888458.py\u001b[0m in \u001b[0;36mmove_scanner_custom_signal\u001b[1;34m(samples, rate, timeout_sec)\u001b[0m\n\u001b[0;32m     13\u001b[0m             \u001b[0msamples\u001b[0m \u001b[1;31m# y galvo, second mirror\u001b[0m\u001b[1;33m\u001b[0m\u001b[1;33m\u001b[0m\u001b[0m\n\u001b[0;32m     14\u001b[0m         ]))\n\u001b[1;32m---> 15\u001b[1;33m         \u001b[0mtask\u001b[0m\u001b[1;33m.\u001b[0m\u001b[0mwait_until_done\u001b[0m\u001b[1;33m(\u001b[0m\u001b[0mtimeout\u001b[0m\u001b[1;33m=\u001b[0m\u001b[0mtimeout_sec\u001b[0m\u001b[1;33m)\u001b[0m\u001b[1;33m\u001b[0m\u001b[1;33m\u001b[0m\u001b[0m\n\u001b[0m\u001b[0;32m     16\u001b[0m \u001b[1;33m\u001b[0m\u001b[0m\n\u001b[0;32m     17\u001b[0m         \u001b[0mtask\u001b[0m\u001b[1;33m.\u001b[0m\u001b[0mstop\u001b[0m\u001b[1;33m(\u001b[0m\u001b[1;33m)\u001b[0m\u001b[1;33m\u001b[0m\u001b[1;33m\u001b[0m\u001b[0m\n",
      "\u001b[1;32m~\\AppData\\Roaming\\Python\\Python39\\site-packages\\nidaqmx\\task.py\u001b[0m in \u001b[0;36mwait_until_done\u001b[1;34m(self, timeout)\u001b[0m\n\u001b[0;32m   1070\u001b[0m \u001b[1;33m\u001b[0m\u001b[0m\n\u001b[0;32m   1071\u001b[0m         \u001b[0merror_code\u001b[0m \u001b[1;33m=\u001b[0m \u001b[0mcfunc\u001b[0m\u001b[1;33m(\u001b[0m\u001b[0mself\u001b[0m\u001b[1;33m.\u001b[0m\u001b[0m_handle\u001b[0m\u001b[1;33m,\u001b[0m \u001b[0mtimeout\u001b[0m\u001b[1;33m)\u001b[0m\u001b[1;33m\u001b[0m\u001b[1;33m\u001b[0m\u001b[0m\n\u001b[1;32m-> 1072\u001b[1;33m         \u001b[0mcheck_for_error\u001b[0m\u001b[1;33m(\u001b[0m\u001b[0merror_code\u001b[0m\u001b[1;33m)\u001b[0m\u001b[1;33m\u001b[0m\u001b[1;33m\u001b[0m\u001b[0m\n\u001b[0m\u001b[0;32m   1073\u001b[0m \u001b[1;33m\u001b[0m\u001b[0m\n\u001b[0;32m   1074\u001b[0m     def _raise_invalid_num_lines_error(\n",
      "\u001b[1;32m~\\AppData\\Roaming\\Python\\Python39\\site-packages\\nidaqmx\\errors.py\u001b[0m in \u001b[0;36mcheck_for_error\u001b[1;34m(error_code)\u001b[0m\n\u001b[0;32m    125\u001b[0m         \u001b[0mcfunc\u001b[0m\u001b[1;33m(\u001b[0m\u001b[0merror_buffer\u001b[0m\u001b[1;33m,\u001b[0m \u001b[1;36m2048\u001b[0m\u001b[1;33m)\u001b[0m\u001b[1;33m\u001b[0m\u001b[1;33m\u001b[0m\u001b[0m\n\u001b[0;32m    126\u001b[0m \u001b[1;33m\u001b[0m\u001b[0m\n\u001b[1;32m--> 127\u001b[1;33m         \u001b[1;32mraise\u001b[0m \u001b[0mDaqError\u001b[0m\u001b[1;33m(\u001b[0m\u001b[0merror_buffer\u001b[0m\u001b[1;33m.\u001b[0m\u001b[0mvalue\u001b[0m\u001b[1;33m.\u001b[0m\u001b[0mdecode\u001b[0m\u001b[1;33m(\u001b[0m\u001b[1;34m\"utf-8\"\u001b[0m\u001b[1;33m)\u001b[0m\u001b[1;33m,\u001b[0m \u001b[0merror_code\u001b[0m\u001b[1;33m)\u001b[0m\u001b[1;33m\u001b[0m\u001b[1;33m\u001b[0m\u001b[0m\n\u001b[0m\u001b[0;32m    128\u001b[0m \u001b[1;33m\u001b[0m\u001b[0m\n\u001b[0;32m    129\u001b[0m     \u001b[1;32melif\u001b[0m \u001b[0merror_code\u001b[0m \u001b[1;33m>\u001b[0m \u001b[1;36m0\u001b[0m\u001b[1;33m:\u001b[0m\u001b[1;33m\u001b[0m\u001b[1;33m\u001b[0m\u001b[0m\n",
      "\u001b[1;31mDaqError\u001b[0m: Wait Until Done did not indicate that the task was done within the specified timeout.\n\nIncrease the timeout, check the program, and make sure connections for external timing and triggering are in place.\nTask Name: _unnamedTask<39>\n\nStatus Code: -200560"
     ]
    }
   ],
   "source": [
    "t, samples, rate, n_samples = sine_signal(A=6, f=3)\n",
    "move_scanner_custom_signal(samples, rate, timeout_sec=60)"
   ]
  },
  {
   "cell_type": "code",
   "execution_count": 63,
   "id": "78481162-0d03-4430-b36b-8a7e5f2507ab",
   "metadata": {},
   "outputs": [
    {
     "ename": "DaqError",
     "evalue": "Wait Until Done did not indicate that the task was done within the specified timeout.\n\nIncrease the timeout, check the program, and make sure connections for external timing and triggering are in place.\nTask Name: _unnamedTask<37>\n\nStatus Code: -200560",
     "output_type": "error",
     "traceback": [
      "\u001b[1;31m---------------------------------------------------------------------------\u001b[0m",
      "\u001b[1;31mDaqError\u001b[0m                                  Traceback (most recent call last)",
      "\u001b[1;32m~\\AppData\\Local\\Temp/ipykernel_13456/2213340584.py\u001b[0m in \u001b[0;36m<module>\u001b[1;34m\u001b[0m\n\u001b[0;32m     17\u001b[0m         \u001b[0msamples\u001b[0m \u001b[1;31m# y galvo, second mirror\u001b[0m\u001b[1;33m\u001b[0m\u001b[1;33m\u001b[0m\u001b[0m\n\u001b[0;32m     18\u001b[0m     ]))\n\u001b[1;32m---> 19\u001b[1;33m     \u001b[0mtask_movescanner\u001b[0m\u001b[1;33m.\u001b[0m\u001b[0mwait_until_done\u001b[0m\u001b[1;33m(\u001b[0m\u001b[0mtimeout\u001b[0m\u001b[1;33m=\u001b[0m\u001b[1;36m10\u001b[0m\u001b[1;33m)\u001b[0m\u001b[1;33m\u001b[0m\u001b[1;33m\u001b[0m\u001b[0m\n\u001b[0m\u001b[0;32m     20\u001b[0m \u001b[1;33m\u001b[0m\u001b[0m\n\u001b[0;32m     21\u001b[0m     \u001b[0mtask_movescanner\u001b[0m\u001b[1;33m.\u001b[0m\u001b[0mstop\u001b[0m\u001b[1;33m(\u001b[0m\u001b[1;33m)\u001b[0m\u001b[1;33m\u001b[0m\u001b[1;33m\u001b[0m\u001b[0m\n",
      "\u001b[1;32m~\\AppData\\Roaming\\Python\\Python39\\site-packages\\nidaqmx\\task.py\u001b[0m in \u001b[0;36mwait_until_done\u001b[1;34m(self, timeout)\u001b[0m\n\u001b[0;32m   1070\u001b[0m \u001b[1;33m\u001b[0m\u001b[0m\n\u001b[0;32m   1071\u001b[0m         \u001b[0merror_code\u001b[0m \u001b[1;33m=\u001b[0m \u001b[0mcfunc\u001b[0m\u001b[1;33m(\u001b[0m\u001b[0mself\u001b[0m\u001b[1;33m.\u001b[0m\u001b[0m_handle\u001b[0m\u001b[1;33m,\u001b[0m \u001b[0mtimeout\u001b[0m\u001b[1;33m)\u001b[0m\u001b[1;33m\u001b[0m\u001b[1;33m\u001b[0m\u001b[0m\n\u001b[1;32m-> 1072\u001b[1;33m         \u001b[0mcheck_for_error\u001b[0m\u001b[1;33m(\u001b[0m\u001b[0merror_code\u001b[0m\u001b[1;33m)\u001b[0m\u001b[1;33m\u001b[0m\u001b[1;33m\u001b[0m\u001b[0m\n\u001b[0m\u001b[0;32m   1073\u001b[0m \u001b[1;33m\u001b[0m\u001b[0m\n\u001b[0;32m   1074\u001b[0m     def _raise_invalid_num_lines_error(\n",
      "\u001b[1;32m~\\AppData\\Roaming\\Python\\Python39\\site-packages\\nidaqmx\\errors.py\u001b[0m in \u001b[0;36mcheck_for_error\u001b[1;34m(error_code)\u001b[0m\n\u001b[0;32m    125\u001b[0m         \u001b[0mcfunc\u001b[0m\u001b[1;33m(\u001b[0m\u001b[0merror_buffer\u001b[0m\u001b[1;33m,\u001b[0m \u001b[1;36m2048\u001b[0m\u001b[1;33m)\u001b[0m\u001b[1;33m\u001b[0m\u001b[1;33m\u001b[0m\u001b[0m\n\u001b[0;32m    126\u001b[0m \u001b[1;33m\u001b[0m\u001b[0m\n\u001b[1;32m--> 127\u001b[1;33m         \u001b[1;32mraise\u001b[0m \u001b[0mDaqError\u001b[0m\u001b[1;33m(\u001b[0m\u001b[0merror_buffer\u001b[0m\u001b[1;33m.\u001b[0m\u001b[0mvalue\u001b[0m\u001b[1;33m.\u001b[0m\u001b[0mdecode\u001b[0m\u001b[1;33m(\u001b[0m\u001b[1;34m\"utf-8\"\u001b[0m\u001b[1;33m)\u001b[0m\u001b[1;33m,\u001b[0m \u001b[0merror_code\u001b[0m\u001b[1;33m)\u001b[0m\u001b[1;33m\u001b[0m\u001b[1;33m\u001b[0m\u001b[0m\n\u001b[0m\u001b[0;32m    128\u001b[0m \u001b[1;33m\u001b[0m\u001b[0m\n\u001b[0;32m    129\u001b[0m     \u001b[1;32melif\u001b[0m \u001b[0merror_code\u001b[0m \u001b[1;33m>\u001b[0m \u001b[1;36m0\u001b[0m\u001b[1;33m:\u001b[0m\u001b[1;33m\u001b[0m\u001b[1;33m\u001b[0m\u001b[0m\n",
      "\u001b[1;31mDaqError\u001b[0m: Wait Until Done did not indicate that the task was done within the specified timeout.\n\nIncrease the timeout, check the program, and make sure connections for external timing and triggering are in place.\nTask Name: _unnamedTask<37>\n\nStatus Code: -200560"
     ]
    }
   ],
   "source": [
    "with nidaqmx.Task() as task_movescanner:\n",
    "    t, samples, rate, n_samples = sine_signal(A=6, f=1)\n",
    "    # plt.plot(t, samples)\n",
    "    # plt.show()\n",
    "    # t, samples, rate, n_samples = constant_signal(A=0)\n",
    "    \n",
    "    # # for bh trigger\n",
    "    # task.co_channels.add_co_pulse_chan_time(counter=\"Dev2/ctr1\", low_time=0.010, high_time=0.010)\n",
    "    \n",
    "    # task.ao_channels.add_ao_func_gen_chan(\"Dev2/ao1\", freq=10.0, amplitude=1.0)\n",
    "    task_movescanner.ao_channels.add_ao_voltage_chan(\"Dev1/ao0\")\n",
    "    task_movescanner.ao_channels.add_ao_voltage_chan(\"Dev1/ao1\")\n",
    "    task_movescanner.timing.cfg_samp_clk_timing(rate, sample_mode=nidaqmx.constants.AcquisitionType.CONTINUOUS, samps_per_chan=len(samples))\n",
    "    writer_movescanner = nidaqmx.stream_writers.AnalogMultiChannelWriter(task_movescanner.out_stream, auto_start=True)\n",
    "    writer_movescanner.write_many_sample(np.array([\n",
    "        samples, # x galvo, first mirror\n",
    "        samples # y galvo, second mirror\n",
    "    ]))\n",
    "    task_movescanner.wait_until_done(timeout=10)\n",
    "    \n",
    "    task_movescanner.stop()\n",
    "    task_movescanner.close()\n",
    "    \n",
    "    task_movescanner.start()"
   ]
  },
  {
   "cell_type": "code",
   "execution_count": null,
   "id": "2bdf924e-ea5c-4b5e-bed9-30a8b9b02f12",
   "metadata": {},
   "outputs": [],
   "source": []
  }
 ],
 "metadata": {
  "kernelspec": {
   "display_name": "Python 3 (ipykernel)",
   "language": "python",
   "name": "python3"
  },
  "language_info": {
   "codemirror_mode": {
    "name": "ipython",
    "version": 3
   },
   "file_extension": ".py",
   "mimetype": "text/x-python",
   "name": "python",
   "nbconvert_exporter": "python",
   "pygments_lexer": "ipython3",
   "version": "3.9.12"
  }
 },
 "nbformat": 4,
 "nbformat_minor": 5
}
