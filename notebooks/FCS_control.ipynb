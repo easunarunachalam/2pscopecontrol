{
 "cells": [
  {
   "cell_type": "code",
   "execution_count": 1,
   "id": "7470e20d-57d9-4520-b61c-48ff1e2456f8",
   "metadata": {},
   "outputs": [],
   "source": [
    "import pymmcore\n",
    "import os.path\n",
    "import sys\n",
    "import time"
   ]
  },
  {
   "cell_type": "markdown",
   "id": "9426d0a4-55d0-4276-826b-9a8c1e0f1f98",
   "metadata": {},
   "source": [
    "Installation of packages with pip (example for `nidaqmx`): `C:\\Users\\TCSPC\\anaconda3\\envs\\scopecontrol\\Scripts\\pip3.exe install --user nidaqmx`"
   ]
  },
  {
   "cell_type": "code",
   "execution_count": 3,
   "id": "eddeec2a-47e7-48f0-907e-d3c6518ab2ae",
   "metadata": {},
   "outputs": [],
   "source": [
    "mm_dir = r\"C:\\Program Files\\Micro-Manager-2.0.1\"\n",
    "\n",
    "mmc = pymmcore.CMMCore()"
   ]
  },
  {
   "cell_type": "code",
   "execution_count": 4,
   "id": "03e32df9-255a-4b12-b408-5714410b8880",
   "metadata": {},
   "outputs": [
    {
     "data": {
      "text/plain": [
       "'Device API version 70, Module API version 10'"
      ]
     },
     "execution_count": 4,
     "metadata": {},
     "output_type": "execute_result"
    }
   ],
   "source": [
    "pymmcore.CMMCore().getAPIVersionInfo()"
   ]
  },
  {
   "cell_type": "code",
   "execution_count": 5,
   "id": "f06c36a4-a754-4c9e-898a-edadf6a13341",
   "metadata": {},
   "outputs": [],
   "source": [
    "mmc.setDeviceAdapterSearchPaths([mm_dir])\n",
    "mmc.loadSystemConfiguration(os.path.join(mm_dir, \"MMConfig_xyz_shutter_filter2.cfg\"))\n",
    "\n",
    "# mmc.snapImage()\n",
    "# mmc.getImage()"
   ]
  },
  {
   "cell_type": "code",
   "execution_count": 6,
   "id": "9f59a96b-2b1f-4d35-9a50-be38f538149f",
   "metadata": {},
   "outputs": [
    {
     "data": {
      "text/plain": [
       "('COM1',\n",
       " 'COM2',\n",
       " 'COM8',\n",
       " 'PIZStage',\n",
       " 'XYStage',\n",
       " 'SutterHub',\n",
       " 'Wheel-A',\n",
       " 'Shutter-A',\n",
       " 'Core')"
      ]
     },
     "execution_count": 6,
     "metadata": {},
     "output_type": "execute_result"
    }
   ],
   "source": [
    "mmc.getLoadedDevices()"
   ]
  },
  {
   "cell_type": "code",
   "execution_count": 98,
   "id": "2a335d2c-2f9d-4109-99cd-de598ca4151f",
   "metadata": {},
   "outputs": [],
   "source": [
    "import nidaqmx\n",
    "import nidaqmx.system\n",
    "from nidaqmx.types import CtrTime"
   ]
  },
  {
   "cell_type": "code",
   "execution_count": 101,
   "id": "34d98cbe-5dc4-432a-b3eb-603e70df69cd",
   "metadata": {},
   "outputs": [],
   "source": [
    "system = nidaqmx.system.System.local()\n",
    "\n",
    "print(system.driver_version)\n",
    "\n",
    "for device in system.devices:\n",
    "    print(device)"
   ]
  },
  {
   "cell_type": "code",
   "execution_count": 103,
   "id": "7f3a64a8-863d-4ff0-9767-1685a00e74f2",
   "metadata": {},
   "outputs": [],
   "source": [
    "with nidaqmx.Task() as task:\n",
    "    task.co_channels.add_co_pulse_chan_time(counter=\"Dev1/ctr1\", low_time=0.010, high_time=0.010)\n",
    "    task.start()"
   ]
  }
 ],
 "metadata": {
  "kernelspec": {
   "display_name": "Python 3 (ipykernel)",
   "language": "python",
   "name": "python3"
  },
  "language_info": {
   "codemirror_mode": {
    "name": "ipython",
    "version": 3
   },
   "file_extension": ".py",
   "mimetype": "text/x-python",
   "name": "python",
   "nbconvert_exporter": "python",
   "pygments_lexer": "ipython3",
   "version": "3.7.10"
  }
 },
 "nbformat": 4,
 "nbformat_minor": 5
}
