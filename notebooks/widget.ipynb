{
 "cells": [
  {
   "cell_type": "code",
   "execution_count": 1,
   "id": "41e79c63-2101-4ff8-9482-f9efcd521e0f",
   "metadata": {},
   "outputs": [],
   "source": [
    "from ipywidgets import Layout, Button, Box, Checkbox, FloatText, Textarea, Output, Dropdown, Label, IntSlider, GridspecLayout, jslink"
   ]
  },
  {
   "cell_type": "code",
   "execution_count": 2,
   "id": "8c5d375c-7885-4c2c-8921-918c64ef6db7",
   "metadata": {},
   "outputs": [],
   "source": [
    "import pymmcore\n",
    "import os.path\n",
    "import sys\n",
    "import time\n",
    "import threading"
   ]
  },
  {
   "cell_type": "code",
   "execution_count": 3,
   "id": "9c55134e-8b4b-44e9-b9f8-79aef9bdff48",
   "metadata": {},
   "outputs": [],
   "source": [
    "mm_dir = r\"C:\\Program Files\\Micro-Manager-2.0.1\"\n",
    "\n",
    "mmc = pymmcore.CMMCore()"
   ]
  },
  {
   "cell_type": "code",
   "execution_count": 4,
   "id": "dc23929d-5fa5-47c3-8232-de3032ca3792",
   "metadata": {},
   "outputs": [
    {
     "data": {
      "text/plain": [
       "'Device API version 70, Module API version 10'"
      ]
     },
     "execution_count": 4,
     "metadata": {},
     "output_type": "execute_result"
    }
   ],
   "source": [
    "pymmcore.CMMCore().getAPIVersionInfo()"
   ]
  },
  {
   "cell_type": "code",
   "execution_count": 5,
   "id": "86c26a30-91bb-46f5-8803-bbe2db9e8ce0",
   "metadata": {},
   "outputs": [],
   "source": [
    "mmc.setDeviceAdapterSearchPaths([mm_dir])\n",
    "mmc.loadSystemConfiguration(os.path.join(mm_dir, \"MMConfig_xyz_shutter_filter2.cfg\"))"
   ]
  },
  {
   "cell_type": "code",
   "execution_count": 6,
   "id": "0924c53f-49a5-4403-9e01-e9fa4fcde74e",
   "metadata": {},
   "outputs": [
    {
     "data": {
      "text/plain": [
       "('COM1',\n",
       " 'COM2',\n",
       " 'COM8',\n",
       " 'PIZStage',\n",
       " 'XYStage',\n",
       " 'SutterHub',\n",
       " 'Wheel-A',\n",
       " 'Shutter-A',\n",
       " 'Core')"
      ]
     },
     "execution_count": 6,
     "metadata": {},
     "output_type": "execute_result"
    }
   ],
   "source": [
    "mmc.getLoadedDevices()"
   ]
  },
  {
   "cell_type": "markdown",
   "id": "be1a50dd-1728-44e6-9a75-9a7f07c9d529",
   "metadata": {},
   "source": [
    "# initialize HWP and SYNC"
   ]
  },
  {
   "cell_type": "code",
   "execution_count": 7,
   "id": "8d5c4ade-ebd4-47fc-9f58-bb29cd3e61e9",
   "metadata": {},
   "outputs": [],
   "source": [
    "from pylablib.devices import Thorlabs"
   ]
  },
  {
   "cell_type": "code",
   "execution_count": 8,
   "id": "c61b41fa-8797-49ff-af8e-5d2d2a64f2ff",
   "metadata": {},
   "outputs": [
    {
     "name": "stdout",
     "output_type": "stream",
     "text": [
      "[('27253344', 'Brushed Motor Controller'), ('27004338', 'Brushed Motor Controller')]\n"
     ]
    }
   ],
   "source": [
    "kinesis_devices = Thorlabs.list_kinesis_devices()\n",
    "sync_stage, hwp_stage = kinesis_devices[0], kinesis_devices[1]\n",
    "hwp_ID, sync_ID = kinesis_devices[1][0], kinesis_devices[0][0]\n",
    "hwp_scale = \"stage\"\n",
    "sync_scale = \"stage\"\n",
    "print(kinesis_devices)"
   ]
  },
  {
   "cell_type": "code",
   "execution_count": 9,
   "id": "6bdad728-7f9c-47af-96a5-07e7a664277b",
   "metadata": {},
   "outputs": [],
   "source": [
    "hwp_mutex = threading.Lock()\n",
    "sync_mutex = threading.Lock()\n",
    "shutter_mutex = threading.Lock()\n",
    "filtwhl_mutex = threading.Lock()\n",
    "xystage_mutex = threading.Lock()\n",
    "zpiezo_mutex = threading.Lock()\n",
    "laser_mutex = threading.Lock()"
   ]
  },
  {
   "cell_type": "code",
   "execution_count": 10,
   "id": "a94ea726-110c-4778-895f-73450b6b86ff",
   "metadata": {},
   "outputs": [],
   "source": [
    "def hwp_home():\n",
    "    global hwp_mutex\n",
    "\n",
    "    hwp_mutex.acquire()\n",
    "    try:\n",
    "        with Thorlabs.KinesisMotor(hwp_ID, scale=\"stage\") as hwp_stage:\n",
    "            hwp_stage.home()\n",
    "            hwp_stage.wait_for_home()\n",
    "            hwp_stage.move_to(0)\n",
    "    finally:\n",
    "        hwp_mutex.release()\n",
    "        \n",
    "def sync_home():\n",
    "    global sync_mutex\n",
    "\n",
    "    sync_mutex.acquire()\n",
    "    try:\n",
    "        with Thorlabs.KinesisMotor(sync_ID, scale=\"stage\") as sync_stage:\n",
    "            sync_stage.home()\n",
    "            sync_stage.wait_for_home()\n",
    "            sync_stage.move_to(0)\n",
    "    finally:\n",
    "        sync_mutex.release()"
   ]
  },
  {
   "cell_type": "code",
   "execution_count": 54,
   "id": "7254d417-a759-491c-8496-348f427be525",
   "metadata": {},
   "outputs": [],
   "source": [
    "hwp_home()"
   ]
  },
  {
   "cell_type": "code",
   "execution_count": 55,
   "id": "0bf78b6c-a607-4806-be10-75d7aae4b94f",
   "metadata": {},
   "outputs": [],
   "source": [
    "sync_home()"
   ]
  },
  {
   "cell_type": "code",
   "execution_count": 56,
   "id": "2fd23f2d-5235-46d0-a1d6-114580865c08",
   "metadata": {},
   "outputs": [],
   "source": [
    "filter_list = ['Empty', '460/50 NADH', '647/26']"
   ]
  },
  {
   "cell_type": "code",
   "execution_count": 74,
   "id": "3125415b-1fe3-455e-b7a0-a5a890c9ef8c",
   "metadata": {},
   "outputs": [
    {
     "data": {
      "text/plain": [
       "True"
      ]
     },
     "execution_count": 74,
     "metadata": {},
     "output_type": "execute_result"
    }
   ],
   "source": [
    "mmc.setShutterOpen(True)\n",
    "mmc.getShutterOpen()"
   ]
  },
  {
   "cell_type": "code",
   "execution_count": 78,
   "id": "0702c869-7add-4610-8a85-571623612800",
   "metadata": {},
   "outputs": [
    {
     "data": {
      "text/plain": [
       "False"
      ]
     },
     "execution_count": 78,
     "metadata": {},
     "output_type": "execute_result"
    }
   ],
   "source": [
    "mmc.setShutterOpen(False)\n",
    "mmc.getShutterOpen()"
   ]
  },
  {
   "cell_type": "code",
   "execution_count": 81,
   "id": "ae8e342f-9d27-4c35-bba7-5b6d2f4ed548",
   "metadata": {},
   "outputs": [
    {
     "data": {
      "application/vnd.jupyter.widget-view+json": {
       "model_id": "027aa0d00d58437a9303e8fd8331fec1",
       "version_major": 2,
       "version_minor": 0
      },
      "text/plain": [
       "Box(children=(Box(children=(Label(value='HWP'), FloatText(value=0.0), FloatText(value=0.0)), layout=Layout(dis…"
      ]
     },
     "metadata": {},
     "output_type": "display_data"
    }
   ],
   "source": [
    "# with Thorlabs.KinesisMotor(\"27004338\", scale=\"stage\") as hwp_stage, Thorlabs.KinesisMotor(\"27253344\", scale=\"stage\") as sync_stage:\n",
    "\n",
    "form_item_layout = Layout(\n",
    "    display='flex',\n",
    "    flex_flow='row',\n",
    "    justify_content='space-between'\n",
    ")\n",
    "\n",
    "form_items = [\n",
    "    Box([Label(value=\"HWP\"), FloatText(), FloatText()], layout=form_item_layout),\n",
    "    Box([Label(value=\"SYNC\"), FloatText(), FloatText()], layout=form_item_layout),\n",
    "    Box([Label(value=\"Shutter\"), Checkbox(), Checkbox()], layout=form_item_layout),\n",
    "    Box([Label(value='Emission filter'), Dropdown(options=filter_list), Dropdown(options=filter_list)], layout=form_item_layout),\n",
    "    Box([Label(value=\"X\"), FloatText(), FloatText()], layout=form_item_layout),\n",
    "    Box([Label(value=\"Y\"), FloatText(), FloatText()], layout=form_item_layout),\n",
    "    Box([Label(value=\"Z\"), FloatText(), FloatText()], layout=form_item_layout),\n",
    "    Box([Label(value=\"Laser WL TARGET\"), FloatText(), FloatText()], layout=form_item_layout),\n",
    "    Box([Label(value=\"Laser MTRPOS TARGET\"), FloatText(), FloatText()], layout=form_item_layout),\n",
    "]\n",
    "\n",
    "def hwp_set_pos(target):\n",
    "    global hwp_mutex\n",
    "\n",
    "    hwp_mutex.acquire()\n",
    "    try:\n",
    "        with Thorlabs.KinesisMotor(hwp_ID, scale=hwp_scale) as hwp_stage:\n",
    "            hwp_stage.move_to(target)\n",
    "            hwp_stage.wait_for_stop()\n",
    "    finally:\n",
    "        hwp_mutex.release()\n",
    "        \n",
    "def hwp_get_pos():\n",
    "    global hwp_mutex\n",
    "\n",
    "    hwp_mutex.acquire()\n",
    "    try:\n",
    "        with Thorlabs.KinesisMotor(hwp_ID, scale=hwp_scale) as hwp_stage:\n",
    "            pos = hwp_stage.get_position()\n",
    "    finally:\n",
    "        hwp_mutex.release()\n",
    "    \n",
    "    return pos\n",
    "\n",
    "def sync_set_pos(target):\n",
    "    global hwp_mutex\n",
    "\n",
    "    sync_mutex.acquire()\n",
    "    try:\n",
    "        with Thorlabs.KinesisMotor(sync_ID, scale=sync_scale) as sync_stage:\n",
    "            sync_stage.move_to(target)\n",
    "            sync_stage.wait_for_stop()\n",
    "    finally:\n",
    "        sync_mutex.release()\n",
    "        \n",
    "def sync_get_pos():\n",
    "    global sync_mutex\n",
    "\n",
    "    sync_mutex.acquire()\n",
    "    try:\n",
    "        with Thorlabs.KinesisMotor(sync_ID, scale=sync_scale) as sync_stage:\n",
    "            pos = sync_stage.get_position()\n",
    "    finally:\n",
    "        sync_mutex.release()\n",
    "    \n",
    "    return pos\n",
    "\n",
    "def HWP_value_change(change):\n",
    "    if (change[\"new\"] >= 0) and (change[\"new\"] <= 359.99):        \n",
    "        HWP_set_pos(change[\"new\"])\n",
    "        \n",
    "def SYNC_value_change(change):\n",
    "    if (change[\"new\"] >= 0) and (change[\"new\"] <= 359.99):        \n",
    "        SYNC_set_pos(change[\"new\"])\n",
    "        \n",
    "def shutter_value_change(change):\n",
    "    if change[\"new\"]:\n",
    "        mmc.setShutterOpen(True)\n",
    "    else:\n",
    "        mmc.setShutterOpen(False)\n",
    "        \n",
    "def filtwhl_value_change(change):\n",
    "    if (change[\"new\"] >= 0) and (change[\"new\"] <= 359.99):        \n",
    "        SYNC_set_pos(change[\"new\"])\n",
    "\n",
    "form_items[0].children[1].observe(HWP_value_change, names=\"value\")\n",
    "form_items[1].children[1].observe(SYNC_value_change, names=\"value\")\n",
    "form_items[2].children[1].observe(shutter_value_change, names=\"value\")\n",
    "form_items[3].children[1].observe(filtwhl_value_change, names=\"value\")\n",
    "\n",
    "\n",
    "def update_status_bg(form_items):\n",
    "    \"\"\"\n",
    "    Update system status in the background\n",
    "    \"\"\"\n",
    "\n",
    "    total = 100\n",
    "    for i in range(total):\n",
    "        time.sleep(0.1)\n",
    "        form_items[0].children[-1].value = hwp_get_pos()\n",
    "        form_items[1].children[-1].value = sync_get_pos()\n",
    "        form_items[2].children[-1].value = mmc.getShutterOpen()\n",
    "\n",
    "thread = threading.Thread(target=update_status_bg, args=(form_items,))\n",
    "\n",
    "\n",
    "form = Box(form_items, layout=Layout(\n",
    "    display='flex',\n",
    "    flex_flow='column',\n",
    "    border='solid 2px',\n",
    "    align_items='stretch',\n",
    "    width='100%'\n",
    "))\n",
    "\n",
    "display(form)\n",
    "thread.start()"
   ]
  },
  {
   "cell_type": "markdown",
   "id": "b385d5b2-3e21-464a-b7aa-368619678b17",
   "metadata": {},
   "source": [
    "# ref"
   ]
  },
  {
   "cell_type": "code",
   "execution_count": null,
   "id": "a7b7e024-cce1-4010-9b0c-a672fe93ef2f",
   "metadata": {},
   "outputs": [],
   "source": [
    "form_item_layout = Layout(\n",
    "    display='flex',\n",
    "    flex_flow='row',\n",
    "    justify_content='space-between'\n",
    ")\n",
    "\n",
    "form_items = [\n",
    "    Box([Label(value='HWP'), IntSlider(min=0, max=60)], layout=form_item_layout),\n",
    "    Box([Label(value='Egg style'),\n",
    "         Dropdown(options=['Scrambled', 'Sunny side up', 'Over easy'])], layout=form_item_layout),\n",
    "    Box([Label(value='HWP'), FloatText()], layout=form_item_layout),\n",
    "    Box([Label(value='Information'),\n",
    "         Textarea()], layout=form_item_layout)\n",
    "]\n",
    "\n",
    "form = Box(form_items, layout=Layout(\n",
    "    display='flex',\n",
    "    flex_flow='column',\n",
    "    border='solid 2px',\n",
    "    align_items='stretch',\n",
    "    width='50%'\n",
    "))\n",
    "form"
   ]
  }
 ],
 "metadata": {
  "kernelspec": {
   "display_name": "Python 3 (ipykernel)",
   "language": "python",
   "name": "python3"
  },
  "language_info": {
   "codemirror_mode": {
    "name": "ipython",
    "version": 3
   },
   "file_extension": ".py",
   "mimetype": "text/x-python",
   "name": "python",
   "nbconvert_exporter": "python",
   "pygments_lexer": "ipython3",
   "version": "3.9.7"
  }
 },
 "nbformat": 4,
 "nbformat_minor": 5
}
