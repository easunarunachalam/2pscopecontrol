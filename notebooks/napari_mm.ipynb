{
 "cells": [
  {
   "cell_type": "code",
   "execution_count": 1,
   "id": "e4abae32-52f6-448d-9be3-f0c7c82b5d87",
   "metadata": {},
   "outputs": [],
   "source": [
    "import pymmcore_plus\n",
    "from pymmcore_plus import CMMCorePlus\n",
    "\n",
    "import napari\n",
    "import os.path\n",
    "import sys\n",
    "import time"
   ]
  },
  {
   "cell_type": "code",
   "execution_count": 2,
   "id": "fff8a352-b723-4681-88ec-995badccaa09",
   "metadata": {},
   "outputs": [
    {
     "name": "stderr",
     "output_type": "stream",
     "text": [
      "2022-04-27 13:09:50.881 | DEBUG    | pymmcore_plus._util:find_micromanager:47 - using MM path found in applications: C:\\Program Files\\Micro-Manager-1.4\n",
      "2022-04-27 13:09:50.881 | INFO     | pymmcore_plus.core._mmcore_plus:setDeviceAdapterSearchPaths:152 - setting adapter search paths: ['C:\\\\Program Files\\\\Micro-Manager-1.4']\n",
      "2022-04-27 13:09:51.599 | DEBUG    | pymmcore_plus._util:find_micromanager:47 - using MM path found in applications: C:\\Program Files\\Micro-Manager-1.4\n",
      "2022-04-27 13:09:57.994 | INFO     | pymmcore_plus.core._mmcore_plus:unloadAllDevices:174 - Unloading all devices\n",
      "2022-04-27 13:10:31.202 | INFO     | pymmcore_plus.core._mmcore_plus:unloadAllDevices:174 - Unloading all devices\n"
     ]
    }
   ],
   "source": [
    "v = napari.Viewer()\n",
    "dw, main_window = v.window.add_plugin_dock_widget(\"napari-micromanager\")\n",
    "\n",
    "mm_dir = r\"C:\\Program Files\\Micro-Manager-2.0.1\"\n",
    "\n",
    "# mmc = CMMCorePlus.instance(os.path.join(mm_dir, \"MMConfig_xyz_shutter_filter2.cfg\"))\n",
    "mmc = CMMCorePlus.instance()\n",
    "\n",
    "# do any complicated scripting you want here\n",
    "# mmc.loadSystemConfiguration(os.path.join(mm_dir, \"MMConfig_xyz_shutter_filter2.cfg\"))\n",
    "\n",
    "# start napari\n",
    "napari.run()"
   ]
  },
  {
   "cell_type": "code",
   "execution_count": 5,
   "id": "80e360ef-b8fe-4034-a02b-425b651f9c7f",
   "metadata": {},
   "outputs": [],
   "source": []
  },
  {
   "cell_type": "code",
   "execution_count": 6,
   "id": "6bea26f2-7d9d-4f43-b1b5-9e7dd684de99",
   "metadata": {},
   "outputs": [
    {
     "data": {
      "text/plain": [
       "'Device API version 70, Module API version 10'"
      ]
     },
     "execution_count": 6,
     "metadata": {},
     "output_type": "execute_result"
    }
   ],
   "source": [
    "mmc.getAPIVersionInfo()"
   ]
  },
  {
   "cell_type": "code",
   "execution_count": 9,
   "id": "311e5bc0-03d1-4306-a2de-98fdf8fcc800",
   "metadata": {},
   "outputs": [
    {
     "name": "stderr",
     "output_type": "stream",
     "text": [
      "2022-04-27 12:18:29.901 | INFO     | pymmcore_plus.core._mmcore_plus:setDeviceAdapterSearchPaths:152 - setting adapter search paths: ['C:\\\\Program Files\\\\Micro-Manager-2.0.1']\n"
     ]
    }
   ],
   "source": [
    "mmc.setDeviceAdapterSearchPaths([mm_dir])\n",
    "mmc.loadSystemConfiguration(os.path.join(mm_dir, \"MMConfig_xyz_shutter_filter2.cfg\"))\n",
    "\n",
    "# mmc.snapImage()\n",
    "# mmc.getImage()"
   ]
  },
  {
   "cell_type": "code",
   "execution_count": 10,
   "id": "3c8ab38c-78ed-42ba-a56c-734357168739",
   "metadata": {},
   "outputs": [
    {
     "data": {
      "text/plain": [
       "('COM1',\n",
       " 'COM2',\n",
       " 'COM8',\n",
       " 'PIZStage',\n",
       " 'XYStage',\n",
       " 'SutterHub',\n",
       " 'Wheel-A',\n",
       " 'Shutter-A',\n",
       " 'Core')"
      ]
     },
     "execution_count": 10,
     "metadata": {},
     "output_type": "execute_result"
    }
   ],
   "source": [
    "mmc.getLoadedDevices()"
   ]
  },
  {
   "cell_type": "code",
   "execution_count": 3,
   "id": "7a777ad4-67b0-41d5-8d9c-03705b0c73aa",
   "metadata": {},
   "outputs": [
    {
     "ename": "RuntimeError",
     "evalue": "No device with label \"\"",
     "output_type": "error",
     "traceback": [
      "\u001b[1;31m---------------------------------------------------------------------------\u001b[0m",
      "\u001b[1;31mRuntimeError\u001b[0m                              Traceback (most recent call last)",
      "\u001b[1;32m~\\AppData\\Local\\Temp/ipykernel_12100/3003013021.py\u001b[0m in \u001b[0;36m<module>\u001b[1;34m\u001b[0m\n\u001b[0;32m      1\u001b[0m \u001b[1;31m# XY stage\u001b[0m\u001b[1;33m\u001b[0m\u001b[1;33m\u001b[0m\u001b[0m\n\u001b[0;32m      2\u001b[0m \u001b[1;31m# mmc.setXYPosition(-5000.00,465.00)\u001b[0m\u001b[1;33m\u001b[0m\u001b[1;33m\u001b[0m\u001b[0m\n\u001b[1;32m----> 3\u001b[1;33m \u001b[0mmmc\u001b[0m\u001b[1;33m.\u001b[0m\u001b[0mgetXYStageDevice\u001b[0m\u001b[1;33m(\u001b[0m\u001b[1;33m)\u001b[0m\u001b[1;33m,\u001b[0m \u001b[0mmmc\u001b[0m\u001b[1;33m.\u001b[0m\u001b[0mgetXYPosition\u001b[0m\u001b[1;33m(\u001b[0m\u001b[1;33m)\u001b[0m\u001b[1;33m\u001b[0m\u001b[1;33m\u001b[0m\u001b[0m\n\u001b[0m",
      "\u001b[1;31mRuntimeError\u001b[0m: No device with label \"\""
     ]
    }
   ],
   "source": [
    "# XY stage\n",
    "# mmc.setXYPosition(-5000.00,465.00)\n",
    "mmc.getXYStageDevice(), mmc.getXYPosition()"
   ]
  },
  {
   "cell_type": "code",
   "execution_count": 13,
   "id": "580c001f-faaf-4eec-805f-3cb9da5aa8d3",
   "metadata": {},
   "outputs": [
    {
     "data": {
      "text/plain": [
       "42.7778"
      ]
     },
     "execution_count": 13,
     "metadata": {},
     "output_type": "execute_result"
    },
    {
     "name": "stderr",
     "output_type": "stream",
     "text": [
      "2022-04-27 12:32:42.721 | INFO     | pymmcore_plus.core._mmcore_plus:unloadAllDevices:174 - Unloading all devices\n",
      "2022-04-27 12:33:12.396 | INFO     | pymmcore_plus.core._mmcore_plus:unloadAllDevices:174 - Unloading all devices\n"
     ]
    }
   ],
   "source": [
    "# Z piezo\n",
    "# mmc.setPosition(11)\n",
    "mmc.getPosition()"
   ]
  },
  {
   "cell_type": "code",
   "execution_count": null,
   "id": "670f2b0b-d91e-46e1-8ef9-aceb3dc19f5b",
   "metadata": {},
   "outputs": [],
   "source": []
  }
 ],
 "metadata": {
  "kernelspec": {
   "display_name": "Python 3 (ipykernel)",
   "language": "python",
   "name": "python3"
  },
  "language_info": {
   "codemirror_mode": {
    "name": "ipython",
    "version": 3
   },
   "file_extension": ".py",
   "mimetype": "text/x-python",
   "name": "python",
   "nbconvert_exporter": "python",
   "pygments_lexer": "ipython3",
   "version": "3.9.7"
  }
 },
 "nbformat": 4,
 "nbformat_minor": 5
}
