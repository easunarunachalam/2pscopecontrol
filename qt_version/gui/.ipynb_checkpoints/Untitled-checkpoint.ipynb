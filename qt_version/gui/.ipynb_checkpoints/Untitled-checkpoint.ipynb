{
 "cells": [
  {
   "cell_type": "code",
   "execution_count": 1,
   "id": "978af069-834c-431c-b3ff-681c0426d305",
   "metadata": {},
   "outputs": [],
   "source": [
    "# This Python file uses the following encoding: utf-8\n",
    "import os\n",
    "from pathlib import Path\n",
    "import sys\n",
    "\n",
    "from PySide2.QtWidgets import QApplication, QWidget\n",
    "from PySide2.QtCore import Qt, QFile, QCoreApplication\n",
    "from PySide2.QtUiTools import QUiLoader"
   ]
  },
  {
   "cell_type": "code",
   "execution_count": null,
   "id": "fe536e64-7643-444b-97b7-ba4a7aacac0e",
   "metadata": {},
   "outputs": [],
   "source": [
    "class Widget(QWidget):\n",
    "    def __init__(self):\n",
    "        super(Widget, self).__init__()\n",
    "        self.load_ui()\n",
    "\n",
    "    def load_ui(self):\n",
    "        loader = QUiLoader()\n",
    "        path = os.fspath(Path(__file__).resolve().parent / \"form.ui\")\n",
    "        ui_file = QFile(path)\n",
    "        ui_file.open(QFile.ReadOnly)\n",
    "        loader.load(ui_file, self)\n",
    "        ui_file.close()\n",
    "\n",
    "\n",
    "if __name__ == \"__main__\":\n",
    "    QCoreApplication.setAttribute(Qt.AA_ShareOpenGLContexts)\n",
    "    # qt_app = QtWidgets.QApplication(sys.argv)\n",
    "\n",
    "    app = QApplication([])\n",
    "    widget = Widget()\n",
    "    widget.show()\n",
    "    sys.exit(app.exec_())"
   ]
  },
  {
   "cell_type": "code",
   "execution_count": null,
   "id": "f7ba57bb-e504-48ea-b5f3-3f5527b8b36e",
   "metadata": {},
   "outputs": [],
   "source": []
  }
 ],
 "metadata": {
  "kernelspec": {
   "display_name": "Python 3 (ipykernel)",
   "language": "python",
   "name": "python3"
  },
  "language_info": {
   "codemirror_mode": {
    "name": "ipython",
    "version": 3
   },
   "file_extension": ".py",
   "mimetype": "text/x-python",
   "name": "python",
   "nbconvert_exporter": "python",
   "pygments_lexer": "ipython3",
   "version": "3.9.7"
  }
 },
 "nbformat": 4,
 "nbformat_minor": 5
}
