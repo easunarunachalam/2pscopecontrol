{
 "cells": [
  {
   "cell_type": "code",
   "execution_count": 9,
   "id": "878c5e5f-77d2-424f-8c92-6d893920c9be",
   "metadata": {},
   "outputs": [],
   "source": [
    "import pymmcore\n",
    "import os.path\n",
    "import sys\n",
    "import time"
   ]
  },
  {
   "cell_type": "code",
   "execution_count": 2,
   "id": "4f89e2cf-2c16-4151-832a-090d45a2d020",
   "metadata": {},
   "outputs": [],
   "source": [
    "mm_dir = r\"C:\\Program Files\\Micro-Manager-2.0.1\"\n",
    "\n",
    "mmc = pymmcore.CMMCore()"
   ]
  },
  {
   "cell_type": "code",
   "execution_count": 3,
   "id": "69f83ad5-661a-4518-a9eb-d2da0bb13d79",
   "metadata": {},
   "outputs": [
    {
     "data": {
      "text/plain": [
       "'Device API version 70, Module API version 10'"
      ]
     },
     "execution_count": 3,
     "metadata": {},
     "output_type": "execute_result"
    }
   ],
   "source": [
    "pymmcore.CMMCore().getAPIVersionInfo()"
   ]
  },
  {
   "cell_type": "code",
   "execution_count": 4,
   "id": "47043ffc-6db0-4407-9fd1-e174820db7f0",
   "metadata": {},
   "outputs": [],
   "source": [
    "mmc.setDeviceAdapterSearchPaths([mm_dir])\n",
    "mmc.loadSystemConfiguration(os.path.join(mm_dir, \"MMConfig_xyz_shutter_filter2.cfg\"))\n",
    "\n",
    "# mmc.snapImage()\n",
    "# mmc.getImage()"
   ]
  },
  {
   "cell_type": "code",
   "execution_count": 5,
   "id": "417d7375-502e-4416-84eb-7ffe1f36b399",
   "metadata": {},
   "outputs": [
    {
     "data": {
      "text/plain": [
       "('COM1',\n",
       " 'COM2',\n",
       " 'COM8',\n",
       " 'PIZStage',\n",
       " 'XYStage',\n",
       " 'SutterHub',\n",
       " 'Wheel-A',\n",
       " 'Shutter-A',\n",
       " 'Core')"
      ]
     },
     "execution_count": 5,
     "metadata": {},
     "output_type": "execute_result"
    }
   ],
   "source": [
    "mmc.getLoadedDevices()"
   ]
  },
  {
   "cell_type": "markdown",
   "id": "c3caf299-5019-4238-b035-295fd9096314",
   "metadata": {
    "tags": []
   },
   "source": [
    "# PyMMCore control"
   ]
  },
  {
   "cell_type": "markdown",
   "id": "1080ee00-7096-44b2-ae3b-819fb71888a3",
   "metadata": {},
   "source": [
    "## get/set XYZ"
   ]
  },
  {
   "cell_type": "code",
   "execution_count": 14,
   "id": "a8f67e1b-8682-4acb-899f-04729e967c89",
   "metadata": {},
   "outputs": [
    {
     "data": {
      "text/plain": [
       "[-4999.99, 464.99]"
      ]
     },
     "execution_count": 14,
     "metadata": {},
     "output_type": "execute_result"
    }
   ],
   "source": [
    "# XY stage\n",
    "mmc.setXYPosition(-5000.00,465.00)\n",
    "mmc.getXYPosition()"
   ]
  },
  {
   "cell_type": "code",
   "execution_count": 15,
   "id": "e104df68-7e0d-4260-b378-245ca20a30e0",
   "metadata": {},
   "outputs": [
    {
     "data": {
      "text/plain": [
       "11.0677"
      ]
     },
     "execution_count": 15,
     "metadata": {},
     "output_type": "execute_result"
    }
   ],
   "source": [
    "# Z piezo\n",
    "mmc.setPosition(11)\n",
    "mmc.getPosition()"
   ]
  },
  {
   "cell_type": "markdown",
   "id": "b1613732-073b-4d6f-a535-0ac4570b07d1",
   "metadata": {},
   "source": [
    "## get/set shutter/filter wheel position"
   ]
  },
  {
   "cell_type": "markdown",
   "id": "86906dd4-e301-4170-ad19-f90ab3842438",
   "metadata": {},
   "source": [
    "### filter wheel"
   ]
  },
  {
   "cell_type": "code",
   "execution_count": 27,
   "id": "baea068b-1fcd-4ada-b71b-9c15c29ec5da",
   "metadata": {},
   "outputs": [
    {
     "name": "stdout",
     "output_type": "stream",
     "text": [
      "Busy :  0\n",
      "ClosedPosition :  \n",
      "Delay_ms :  0.0000\n",
      "Description :  Sutter Lambda Filter Wheel\n",
      "Label :  Filter-2\n",
      "Name :  Wheel-A\n",
      "State :  2\n",
      "State Change Speed :  3\n"
     ]
    }
   ],
   "source": [
    "for prop in mmc.getDevicePropertyNames(\"Wheel-A\"):\n",
    "    print(prop, \": \",  mmc.getProperty(\"Wheel-A\", prop))"
   ]
  },
  {
   "cell_type": "code",
   "execution_count": 19,
   "id": "31aac87e-df7a-41da-b379-1fa2b50ad43f",
   "metadata": {},
   "outputs": [
    {
     "data": {
      "text/plain": [
       "('Filter-0',\n",
       " 'Filter-1',\n",
       " 'Filter-2',\n",
       " 'Filter-3',\n",
       " 'Filter-4',\n",
       " 'Filter-5',\n",
       " 'Filter-6',\n",
       " 'Filter-7',\n",
       " 'Filter-8',\n",
       " 'Filter-9')"
      ]
     },
     "execution_count": 19,
     "metadata": {},
     "output_type": "execute_result"
    }
   ],
   "source": [
    "wheel_values = mmc.getStateLabels(\"Wheel-A\")\n",
    "wheel_values"
   ]
  },
  {
   "cell_type": "code",
   "execution_count": 18,
   "id": "9c80051c-0290-491b-9c6a-c7920bf12a59",
   "metadata": {},
   "outputs": [],
   "source": [
    "mmc.setStateLabel(\"Wheel-A\", \"Filter-0\")\n",
    "mmc.getStateLabel(\"Wheel-A\")"
   ]
  },
  {
   "cell_type": "code",
   "execution_count": 20,
   "id": "9305cb25-c9c8-4110-9478-9102e80c3c2d",
   "metadata": {},
   "outputs": [],
   "source": [
    "mmc.setStateLabel(\"Wheel-A\", 'Filter-2')"
   ]
  },
  {
   "cell_type": "markdown",
   "id": "9255e968-3108-47a7-a990-01f6a19f46b1",
   "metadata": {},
   "source": [
    "### shutter"
   ]
  },
  {
   "cell_type": "code",
   "execution_count": 24,
   "id": "06128e7f-4993-48e5-8fbd-f64755f7047e",
   "metadata": {},
   "outputs": [
    {
     "data": {
      "text/plain": [
       "True"
      ]
     },
     "execution_count": 24,
     "metadata": {},
     "output_type": "execute_result"
    }
   ],
   "source": [
    "mmc.setShutterOpen(True)\n",
    "mmc.getShutterOpen()"
   ]
  },
  {
   "cell_type": "code",
   "execution_count": 25,
   "id": "8630604b-a1c6-4261-8248-49a9f202ca9e",
   "metadata": {},
   "outputs": [
    {
     "data": {
      "text/plain": [
       "False"
      ]
     },
     "execution_count": 25,
     "metadata": {},
     "output_type": "execute_result"
    }
   ],
   "source": [
    "mmc.setShutterOpen(False)\n",
    "mmc.getShutterOpen()"
   ]
  },
  {
   "cell_type": "markdown",
   "id": "545bba3c-8c8f-4cad-917c-c5eb69baa0a4",
   "metadata": {},
   "source": [
    "# Insight control"
   ]
  },
  {
   "cell_type": "code",
   "execution_count": 30,
   "id": "5c5145f5-13a0-44d0-8812-159a0cc5c619",
   "metadata": {},
   "outputs": [],
   "source": [
    "import pyvisa"
   ]
  },
  {
   "cell_type": "code",
   "execution_count": 33,
   "id": "55f83af1-c7fb-4811-90bd-34dc0c687d2c",
   "metadata": {},
   "outputs": [
    {
     "name": "stdout",
     "output_type": "stream",
     "text": [
      "('TCPIP0::140.247.108.15::inst0::INSTR', 'ASRL1::INSTR', 'ASRL2::INSTR', 'ASRL3::INSTR', 'ASRL4::INSTR', 'ASRL5::INSTR', 'ASRL6::INSTR', 'ASRL7::INSTR', 'ASRL8::INSTR', 'ASRL11::INSTR')\n"
     ]
    }
   ],
   "source": [
    "rm = pyvisa.ResourceManager()\n",
    "\n",
    "resource_list = rm.list_resources()\n",
    "\n",
    "print(resource_list)"
   ]
  },
  {
   "cell_type": "code",
   "execution_count": 75,
   "id": "2564c276-1e94-4504-9518-3a15b6bd10e6",
   "metadata": {},
   "outputs": [
    {
     "name": "stdout",
     "output_type": "stream",
     "text": [
      "RUN\n",
      "\n",
      "0\n",
      "\n",
      "2.02\n",
      "\n",
      "0.00\n",
      "\n"
     ]
    }
   ],
   "source": [
    "with rm.open_resource(resource_list[-1]) as my_instrument:\n",
    "    my_instrument.baud_rate = 115200\n",
    "    my_instrument.write_termination = '\\r'\n",
    "    # my_instrument.write(\"*IDN?\")\n",
    "    print(my_instrument.query_ascii_values(r\"MODE?\", converter=\"s\")[0])\n",
    "    print(my_instrument.query_ascii_values(r\"SHUTter?\", converter=\"s\")[0])\n",
    "    print(my_instrument.query_ascii_values(r\"READ:POWer?\", converter=\"s\")[0])\n",
    "    \n",
    "    # my_instrument.write_ascii_values(r\"SHUTter 0\", \"\")\n",
    "    # my_instrument.write_ascii_values(r\"OFF\", \"\")\n",
    "    time.sleep(1)\n",
    "    print(my_instrument.query_ascii_values(r\"READ:POWer?\", converter=\"s\")[0])\n",
    "    \n",
    "#     while True:\n",
    "#         print(my_instrument.read_bytes(1))\n"
   ]
  },
  {
   "cell_type": "markdown",
   "id": "35c0f9fa-c335-431c-9ee2-1cdc4f901c34",
   "metadata": {
    "tags": []
   },
   "source": [
    "# ThorLabs Kinesis motorized mounts"
   ]
  },
  {
   "cell_type": "code",
   "execution_count": 2,
   "id": "6bce9025-98bd-425c-81cd-dcd856ebad18",
   "metadata": {},
   "outputs": [],
   "source": [
    "from pylablib.devices import Thorlabs"
   ]
  },
  {
   "cell_type": "code",
   "execution_count": 16,
   "id": "ad97e9d0-2b31-454f-ab88-1b6022ea3f2f",
   "metadata": {},
   "outputs": [],
   "source": [
    "with Thorlabs.KinesisMotor(\"27004338\") as hwp_sample:\n",
    "    # print(hwp_sample.get_full_status())\n",
    "    # print(hwp_sample.is_homed())\n",
    "    # # print(hwp_sample.get_homing_parameters())\n",
    "    # # time.sleep(3)\n",
    "    # hwp_sample.home()\n",
    "    # hwp_sample.wait_for_home()\n",
    "    # hwp_sample.move_by(1000)\n",
    "    hwp_sample.move_to(100000)\n",
    "    "
   ]
  },
  {
   "cell_type": "markdown",
   "id": "10d88955-eba6-4da0-b523-132b79492a20",
   "metadata": {},
   "source": [
    "# bh trigger"
   ]
  },
  {
   "cell_type": "code",
   "execution_count": 23,
   "id": "a519d1ec-a787-4960-9931-a9da17eccc4e",
   "metadata": {},
   "outputs": [],
   "source": [
    "import nidaqmx\n",
    "import nidaqmx.system\n",
    "from nidaqmx.types import CtrTime"
   ]
  },
  {
   "cell_type": "code",
   "execution_count": 24,
   "id": "79fd60f6-f39c-40cc-8e1c-da59ba388c66",
   "metadata": {},
   "outputs": [],
   "source": [
    "system = nidaqmx.system.System.local()"
   ]
  },
  {
   "cell_type": "code",
   "execution_count": 25,
   "id": "822018cb-0265-4110-891d-a801cfb073cd",
   "metadata": {},
   "outputs": [
    {
     "data": {
      "text/plain": [
       "DriverVersion(major_version=18, minor_version=5, update_version=0)"
      ]
     },
     "execution_count": 25,
     "metadata": {},
     "output_type": "execute_result"
    }
   ],
   "source": [
    "system.driver_version"
   ]
  },
  {
   "cell_type": "code",
   "execution_count": 26,
   "id": "f2862e49-8a96-459d-ab32-303805844c66",
   "metadata": {},
   "outputs": [
    {
     "name": "stdout",
     "output_type": "stream",
     "text": [
      "Device(name=Dev2)\n"
     ]
    }
   ],
   "source": [
    "for device in system.devices:\n",
    "    print(device)"
   ]
  },
  {
   "cell_type": "code",
   "execution_count": 29,
   "id": "f78877ea-e595-401a-8a84-03665ef017b9",
   "metadata": {},
   "outputs": [],
   "source": [
    "# https://stackoverflow.com/questions/49951166/nidaqmx-co-channels-cant-write-sample\n",
    "# https://github.com/ni/nidaqmx-python/blob/master/nidaqmx/_task_modules/co_channel_collection.py#L160"
   ]
  },
  {
   "cell_type": "code",
   "execution_count": 34,
   "id": "ec0cc148-2ae9-451a-be41-a04caeaf376c",
   "metadata": {},
   "outputs": [],
   "source": [
    "with nidaqmx.Task() as task:\n",
    "    task.co_channels.add_co_pulse_chan_time(counter=\"Dev2/ctr1\", low_time=0.010, high_time=0.010)\n",
    "    task.start()"
   ]
  },
  {
   "cell_type": "code",
   "execution_count": null,
   "id": "5fbe010c-c15a-42d8-bffd-663f77b9c62f",
   "metadata": {},
   "outputs": [],
   "source": []
  }
 ],
 "metadata": {
  "kernelspec": {
   "display_name": "Python 3 (ipykernel)",
   "language": "python",
   "name": "python3"
  },
  "language_info": {
   "codemirror_mode": {
    "name": "ipython",
    "version": 3
   },
   "file_extension": ".py",
   "mimetype": "text/x-python",
   "name": "python",
   "nbconvert_exporter": "python",
   "pygments_lexer": "ipython3",
   "version": "3.9.7"
  }
 },
 "nbformat": 4,
 "nbformat_minor": 5
}
