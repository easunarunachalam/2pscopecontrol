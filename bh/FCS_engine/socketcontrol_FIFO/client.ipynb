{
 "cells": [
  {
   "cell_type": "code",
   "execution_count": 1,
   "id": "789832f1-011d-416c-a5ad-19da2a614268",
   "metadata": {},
   "outputs": [],
   "source": [
    "import socket\n",
    "import time"
   ]
  },
  {
   "cell_type": "code",
   "execution_count": 28,
   "id": "51021440-05ea-493a-ab0b-35e7ee1e5366",
   "metadata": {},
   "outputs": [],
   "source": [
    "s = socket.socket(socket.AF_INET, socket.SOCK_STREAM)\n",
    "s.connect((socket.gethostname(), 27015))"
   ]
  },
  {
   "cell_type": "code",
   "execution_count": 29,
   "id": "427f4b47-a58c-4d17-9293-540f8a29d33f",
   "metadata": {},
   "outputs": [
    {
     "data": {
      "text/plain": [
       "'3'"
      ]
     },
     "execution_count": 29,
     "metadata": {},
     "output_type": "execute_result"
    }
   ],
   "source": [
    "# s.send(bytes(\"shutdown\", \"utf-8\"))\n",
    "s.send(bytes(\"point_000.spc 1 0 512 512\", \"utf-8\"))\n",
    "\n",
    "msg = s.recv(1).decode(\"utf-8\")\n",
    "msg"
   ]
  },
  {
   "cell_type": "code",
   "execution_count": 27,
   "id": "77cdd04b-cbea-4dfc-8a9f-94268926e5a6",
   "metadata": {},
   "outputs": [],
   "source": [
    "s.close()"
   ]
  },
  {
   "cell_type": "code",
   "execution_count": null,
   "id": "cd7df936-6462-4420-bcf6-dbe10ac1bbdd",
   "metadata": {},
   "outputs": [],
   "source": []
  }
 ],
 "metadata": {
  "kernelspec": {
   "display_name": "Python 3 (ipykernel)",
   "language": "python",
   "name": "python3"
  },
  "language_info": {
   "codemirror_mode": {
    "name": "ipython",
    "version": 3
   },
   "file_extension": ".py",
   "mimetype": "text/x-python",
   "name": "python",
   "nbconvert_exporter": "python",
   "pygments_lexer": "ipython3",
   "version": "3.10.4"
  }
 },
 "nbformat": 4,
 "nbformat_minor": 5
}
